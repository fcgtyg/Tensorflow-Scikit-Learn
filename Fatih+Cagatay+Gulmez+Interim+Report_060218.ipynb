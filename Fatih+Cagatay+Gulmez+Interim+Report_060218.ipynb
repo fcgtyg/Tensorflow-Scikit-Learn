{
 "cells": [
  {
   "cell_type": "code",
   "execution_count": 1,
   "metadata": {
    "collapsed": true
   },
   "outputs": [],
   "source": [
    "import numpy as np\n",
    "import pandas as pd\n",
    "from sklearn.pipeline import Pipeline \n",
    "# I will combine all transformation into a pipeline, so that test dataset can work.\n",
    "\n",
    "# Open dataset files\n",
    "cleveland = pd.read_csv(\"cleveland.data\")\n",
    "switzerland = pd.read_csv(\"switzerland.data\")\n",
    "hungary = pd.read_csv(\"hungary.data\")\n",
    "va = pd.read_csv(\"va.data\")\n",
    "\n",
    "cleveland.columns=[\"Age\", \"Sex\", \"CP\", \"Trestbps\", \"Chol\", \"Fbs\", \"Restecg\", \"Thalach\", \"Exang\", \"Oldpeak\", \"Slope\", \"CA\", \"Thal\", \"Label\"]\n",
    "switzerland.columns=[\"Age\", \"Sex\", \"CP\", \"Trestbps\", \"Chol\", \"Fbs\", \"Restecg\", \"Thalach\", \"Exang\", \"Oldpeak\", \"Slope\", \"CA\", \"Thal\", \"Label\"]\n",
    "hungary.columns=[\"Age\", \"Sex\", \"CP\", \"Trestbps\", \"Chol\", \"Fbs\", \"Restecg\", \"Thalach\", \"Exang\", \"Oldpeak\", \"Slope\", \"CA\", \"Thal\", \"Label\"]\n",
    "va.columns=[\"Age\", \"Sex\", \"CP\", \"Trestbps\", \"Chol\", \"Fbs\", \"Restecg\", \"Thalach\", \"Exang\", \"Oldpeak\", \"Slope\", \"CA\", \"Thal\", \"Label\"]\n",
    "\n",
    "# The null values describes as question marks at data set, we need to convert them to np.NaN to be able to analyse nulls.\n",
    "\n",
    "cleveland.replace(\"?\", np.NaN, inplace=True)\n",
    "switzerland.replace(\"?\", np.NaN, inplace=True)\n",
    "hungary.replace(\"?\", np.NaN, inplace=True)\n",
    "va.replace(\"?\", np.NaN, inplace=True)"
   ]
  },
  {
   "cell_type": "code",
   "execution_count": 2,
   "metadata": {
    "collapsed": true
   },
   "outputs": [],
   "source": [
    "np.random.seed(0)"
   ]
  },
  {
   "cell_type": "code",
   "execution_count": 3,
   "metadata": {
    "collapsed": true
   },
   "outputs": [],
   "source": [
    "# Unite all data loaded above.\n",
    "data = pd.DataFrame(cleveland.append(switzerland.append(hungary.append(va))))\n",
    "\n",
    "# Split Training set and Test Set.\n",
    "from sklearn.model_selection import train_test_split\n",
    "train_set, test_set = train_test_split(data, test_size=0.2, random_state=42)\n",
    "# I Also tried Stratified Sampling but some problems occured, instance numbers doubled that I could not fix.\n",
    "# This separiton is quite enough."
   ]
  },
  {
   "cell_type": "code",
   "execution_count": 4,
   "metadata": {
    "scrolled": true
   },
   "outputs": [
    {
     "name": "stdout",
     "output_type": "stream",
     "text": [
      "<class 'pandas.core.frame.DataFrame'>\n",
      "Int64Index: 732 entries, 25 to 102\n",
      "Data columns (total 14 columns):\n",
      "Age         732 non-null float64\n",
      "Sex         732 non-null float64\n",
      "CP          732 non-null float64\n",
      "Trestbps    687 non-null object\n",
      "Chol        710 non-null object\n",
      "Fbs         662 non-null object\n",
      "Restecg     730 non-null object\n",
      "Thalach     689 non-null object\n",
      "Exang       689 non-null object\n",
      "Oldpeak     683 non-null object\n",
      "Slope       492 non-null object\n",
      "CA          249 non-null object\n",
      "Thal        341 non-null object\n",
      "Label       732 non-null int64\n",
      "dtypes: float64(3), int64(1), object(10)\n",
      "memory usage: 85.8+ KB\n"
     ]
    }
   ],
   "source": [
    "train_set.info()\n",
    "# Take look at training set. There object dtypes, so that we cannot see description properly.\n",
    "# Labels are also included."
   ]
  },
  {
   "cell_type": "code",
   "execution_count": 5,
   "metadata": {},
   "outputs": [
    {
     "data": {
      "text/html": [
       "<div>\n",
       "<style>\n",
       "    .dataframe thead tr:only-child th {\n",
       "        text-align: right;\n",
       "    }\n",
       "\n",
       "    .dataframe thead th {\n",
       "        text-align: left;\n",
       "    }\n",
       "\n",
       "    .dataframe tbody tr th {\n",
       "        vertical-align: top;\n",
       "    }\n",
       "</style>\n",
       "<table border=\"1\" class=\"dataframe\">\n",
       "  <thead>\n",
       "    <tr style=\"text-align: right;\">\n",
       "      <th></th>\n",
       "      <th>Age</th>\n",
       "      <th>Sex</th>\n",
       "      <th>CP</th>\n",
       "      <th>Trestbps</th>\n",
       "      <th>Chol</th>\n",
       "      <th>Fbs</th>\n",
       "      <th>Restecg</th>\n",
       "      <th>Thalach</th>\n",
       "      <th>Exang</th>\n",
       "      <th>Oldpeak</th>\n",
       "      <th>Slope</th>\n",
       "      <th>CA</th>\n",
       "      <th>Thal</th>\n",
       "      <th>Label</th>\n",
       "    </tr>\n",
       "  </thead>\n",
       "  <tbody>\n",
       "    <tr>\n",
       "      <th>25</th>\n",
       "      <td>58.0</td>\n",
       "      <td>0.0</td>\n",
       "      <td>3.0</td>\n",
       "      <td>120</td>\n",
       "      <td>340</td>\n",
       "      <td>0</td>\n",
       "      <td>0</td>\n",
       "      <td>172</td>\n",
       "      <td>0</td>\n",
       "      <td>0</td>\n",
       "      <td>1</td>\n",
       "      <td>0.0</td>\n",
       "      <td>3.0</td>\n",
       "      <td>0</td>\n",
       "    </tr>\n",
       "    <tr>\n",
       "      <th>84</th>\n",
       "      <td>44.0</td>\n",
       "      <td>1.0</td>\n",
       "      <td>3.0</td>\n",
       "      <td>140</td>\n",
       "      <td>235</td>\n",
       "      <td>0</td>\n",
       "      <td>2</td>\n",
       "      <td>180</td>\n",
       "      <td>0</td>\n",
       "      <td>0</td>\n",
       "      <td>1</td>\n",
       "      <td>0.0</td>\n",
       "      <td>3.0</td>\n",
       "      <td>0</td>\n",
       "    </tr>\n",
       "    <tr>\n",
       "      <th>10</th>\n",
       "      <td>56.0</td>\n",
       "      <td>0.0</td>\n",
       "      <td>2.0</td>\n",
       "      <td>140</td>\n",
       "      <td>294</td>\n",
       "      <td>0</td>\n",
       "      <td>2</td>\n",
       "      <td>153</td>\n",
       "      <td>0</td>\n",
       "      <td>1.3</td>\n",
       "      <td>2</td>\n",
       "      <td>0.0</td>\n",
       "      <td>3.0</td>\n",
       "      <td>0</td>\n",
       "    </tr>\n",
       "    <tr>\n",
       "      <th>80</th>\n",
       "      <td>61.0</td>\n",
       "      <td>1.0</td>\n",
       "      <td>4.0</td>\n",
       "      <td>146</td>\n",
       "      <td>241</td>\n",
       "      <td>0</td>\n",
       "      <td>0</td>\n",
       "      <td>148</td>\n",
       "      <td>1</td>\n",
       "      <td>3</td>\n",
       "      <td>3</td>\n",
       "      <td>NaN</td>\n",
       "      <td>NaN</td>\n",
       "      <td>2</td>\n",
       "    </tr>\n",
       "    <tr>\n",
       "      <th>27</th>\n",
       "      <td>38.0</td>\n",
       "      <td>1.0</td>\n",
       "      <td>2.0</td>\n",
       "      <td>140</td>\n",
       "      <td>297</td>\n",
       "      <td>0</td>\n",
       "      <td>0</td>\n",
       "      <td>150</td>\n",
       "      <td>0</td>\n",
       "      <td>0</td>\n",
       "      <td>NaN</td>\n",
       "      <td>NaN</td>\n",
       "      <td>NaN</td>\n",
       "      <td>0</td>\n",
       "    </tr>\n",
       "  </tbody>\n",
       "</table>\n",
       "</div>"
      ],
      "text/plain": [
       "     Age  Sex   CP Trestbps Chol Fbs Restecg Thalach Exang Oldpeak Slope   CA  \\\n",
       "25  58.0  0.0  3.0      120  340   0       0     172     0       0     1  0.0   \n",
       "84  44.0  1.0  3.0      140  235   0       2     180     0       0     1  0.0   \n",
       "10  56.0  0.0  2.0      140  294   0       2     153     0     1.3     2  0.0   \n",
       "80  61.0  1.0  4.0      146  241   0       0     148     1       3     3  NaN   \n",
       "27  38.0  1.0  2.0      140  297   0       0     150     0       0   NaN  NaN   \n",
       "\n",
       "   Thal  Label  \n",
       "25  3.0      0  \n",
       "84  3.0      0  \n",
       "10  3.0      0  \n",
       "80  NaN      2  \n",
       "27  NaN      0  "
      ]
     },
     "execution_count": 5,
     "metadata": {},
     "output_type": "execute_result"
    }
   ],
   "source": [
    "train_set.head()"
   ]
  },
  {
   "cell_type": "raw",
   "metadata": {},
   "source": [
    "THE DATA COLUMN DESCRIPTIONS\n",
    "\n",
    "- Age: The patient's age in years.\n",
    "\n",
    "- Sex: The sex of the patient, Male sex encoded as 1 and Female encoded as 0.\n",
    "\n",
    "- CP: Describes chest pain types. This is a categorical value and values described as follows:\n",
    "    + 1: Typical angina.\n",
    "    + 2: Atypical angina.\n",
    "    + 3: Non-anginal pain.\n",
    "    + 4: Asymptomatic.\n",
    "    Also this definitions are useful to understand data:\n",
    "    * Angina: Angina's are chest pain or pressure that is caused by insufficient blood flood to heart muscle. There are two types of anginas which are Typical Angina and Atypical Angina.\n",
    "    * Typical Angina: A discomfort at chest after a tiring activity liked running. The symptoms of typical angina may disappear or minimized while resting. Also cold weather, heavy meals and emotional stress can cause this type of angina.\n",
    "    * Atypical Angina: Other type of angina, which occurs either resting more than 10 minutes or severes within 4 weeks or occurs more frequently than before. It may occur randomly at rest or minimal action. This type of angina is an alarm basically, to take actions for heart health.\n",
    "    * Non-anginal pain: A chest pain that's duration is more than 30 minutes and less than 5 seconds is mostlikely not an anginal pain.\n",
    "    * Asymptomatic: The term referring a carrier of a disease but no observation of any symptoms. \n",
    "    \n",
    "- Trestbps: Refers to resting blood pressure in unit of mmHg. The pressure that blood do to the wall of artery walls while heart's resting phase between pulses. According to researches, with every 20 mmHg blood pressure added, the death risk from hearth disease doubles.\n",
    "\n",
    "- Chol: Serum cholestoral in mg/dl. A measure of blood cholesterol found at bloodstream. Cholesterol is a substence that is using for piece of hormones and proteins. Composed of HDL and LDL (good and bad) lipoproteins. Calculation is done via LDL+HDL+20%(Triglyceride) and values less than 180 mg/dl is normal.\n",
    "\n",
    "- Fbs: Stands for fasting blood sugar and it is a categorical variable. The values are 1 or 0 if FBS is higher than 120 mg/dl or not respectively. FBS is measured after 8 hours of avoiding eating and drinking unless water and returns blood glucose levels. After 120 mg/dl, the situation turns a serious matter that diagnose is become prediabetes.\n",
    "\n",
    "- Restecg: Resting electrocardiographic results as categorical values which are 0, 1, 2 meaning that normal, abnormal ST-T level and probable LVH (Left Ventricular Hypertrophy) respectively. LVH is a disease that affect left pumping system of heart may weaken and cannot service efficiently. ST elevations are abnormal waves that observed at electrocardiogram.\n",
    "\n",
    "- Thalach: Maximum heart rate achieved. \n",
    "\n",
    "- Exang: This is a categorical value that indicates 1 if exercise induced angine or 0 if not. Simply a boolean variable that states if angina occurs while exercise.\n",
    "\n",
    "- Oldpeak: ST depression with exercise relative to resting. ST Depression is a finding on electrocardiogram which may points some heart diseases.\n",
    "\n",
    "- Slope: A categorical value that the slope of the peak exercise ST segment, values are 1 for upsloping, 2 for flat and 3 for downsloping.\n",
    "- CA: Number of major vessels (0-3) colored by flourosopy\n",
    "- Thal: 3 = normal; 6 = fixed defect; 7 = reversable defect.\n",
    "- Label: Predictions, 0 is healthy and 1-2-3 are disease risk levels."
   ]
  },
  {
   "cell_type": "code",
   "execution_count": 6,
   "metadata": {
    "collapsed": true
   },
   "outputs": [],
   "source": [
    "# Both training and test set labels separated from training features.\n",
    "train_y = train_set[\"Label\"]\n",
    "train_x = train_set.drop(\"Label\", axis=1)\n",
    "test_y = test_set[\"Label\"]\n",
    "test_x = test_set.drop(\"Label\", axis = 1)"
   ]
  },
  {
   "cell_type": "code",
   "execution_count": 7,
   "metadata": {},
   "outputs": [
    {
     "name": "stdout",
     "output_type": "stream",
     "text": [
      "<class 'pandas.core.frame.DataFrame'>\n",
      "Int64Index: 732 entries, 25 to 102\n",
      "Data columns (total 13 columns):\n",
      "Age         732 non-null float64\n",
      "Sex         732 non-null float64\n",
      "CP          732 non-null float64\n",
      "Trestbps    687 non-null object\n",
      "Chol        710 non-null object\n",
      "Fbs         662 non-null object\n",
      "Restecg     730 non-null object\n",
      "Thalach     689 non-null object\n",
      "Exang       689 non-null object\n",
      "Oldpeak     683 non-null object\n",
      "Slope       492 non-null object\n",
      "CA          249 non-null object\n",
      "Thal        341 non-null object\n",
      "dtypes: float64(3), object(10)\n",
      "memory usage: 80.1+ KB\n"
     ]
    }
   ],
   "source": [
    "train_x.info()"
   ]
  },
  {
   "cell_type": "code",
   "execution_count": 8,
   "metadata": {},
   "outputs": [
    {
     "data": {
      "text/html": [
       "<div>\n",
       "<style>\n",
       "    .dataframe thead tr:only-child th {\n",
       "        text-align: right;\n",
       "    }\n",
       "\n",
       "    .dataframe thead th {\n",
       "        text-align: left;\n",
       "    }\n",
       "\n",
       "    .dataframe tbody tr th {\n",
       "        vertical-align: top;\n",
       "    }\n",
       "</style>\n",
       "<table border=\"1\" class=\"dataframe\">\n",
       "  <thead>\n",
       "    <tr style=\"text-align: right;\">\n",
       "      <th></th>\n",
       "      <th>Age</th>\n",
       "      <th>Sex</th>\n",
       "      <th>CP</th>\n",
       "    </tr>\n",
       "  </thead>\n",
       "  <tbody>\n",
       "    <tr>\n",
       "      <th>count</th>\n",
       "      <td>732.000000</td>\n",
       "      <td>732.000000</td>\n",
       "      <td>732.000000</td>\n",
       "    </tr>\n",
       "    <tr>\n",
       "      <th>mean</th>\n",
       "      <td>53.519126</td>\n",
       "      <td>0.784153</td>\n",
       "      <td>3.243169</td>\n",
       "    </tr>\n",
       "    <tr>\n",
       "      <th>std</th>\n",
       "      <td>9.516113</td>\n",
       "      <td>0.411690</td>\n",
       "      <td>0.928877</td>\n",
       "    </tr>\n",
       "    <tr>\n",
       "      <th>min</th>\n",
       "      <td>29.000000</td>\n",
       "      <td>0.000000</td>\n",
       "      <td>1.000000</td>\n",
       "    </tr>\n",
       "    <tr>\n",
       "      <th>25%</th>\n",
       "      <td>47.000000</td>\n",
       "      <td>1.000000</td>\n",
       "      <td>3.000000</td>\n",
       "    </tr>\n",
       "    <tr>\n",
       "      <th>50%</th>\n",
       "      <td>54.000000</td>\n",
       "      <td>1.000000</td>\n",
       "      <td>4.000000</td>\n",
       "    </tr>\n",
       "    <tr>\n",
       "      <th>75%</th>\n",
       "      <td>60.000000</td>\n",
       "      <td>1.000000</td>\n",
       "      <td>4.000000</td>\n",
       "    </tr>\n",
       "    <tr>\n",
       "      <th>max</th>\n",
       "      <td>77.000000</td>\n",
       "      <td>1.000000</td>\n",
       "      <td>4.000000</td>\n",
       "    </tr>\n",
       "  </tbody>\n",
       "</table>\n",
       "</div>"
      ],
      "text/plain": [
       "              Age         Sex          CP\n",
       "count  732.000000  732.000000  732.000000\n",
       "mean    53.519126    0.784153    3.243169\n",
       "std      9.516113    0.411690    0.928877\n",
       "min     29.000000    0.000000    1.000000\n",
       "25%     47.000000    1.000000    3.000000\n",
       "50%     54.000000    1.000000    4.000000\n",
       "75%     60.000000    1.000000    4.000000\n",
       "max     77.000000    1.000000    4.000000"
      ]
     },
     "execution_count": 8,
     "metadata": {},
     "output_type": "execute_result"
    }
   ],
   "source": [
    "# All data set is numeric but we cannot see the description.\n",
    "train_x.describe()"
   ]
  },
  {
   "cell_type": "code",
   "execution_count": 9,
   "metadata": {},
   "outputs": [
    {
     "data": {
      "text/html": [
       "<div>\n",
       "<style>\n",
       "    .dataframe thead tr:only-child th {\n",
       "        text-align: right;\n",
       "    }\n",
       "\n",
       "    .dataframe thead th {\n",
       "        text-align: left;\n",
       "    }\n",
       "\n",
       "    .dataframe tbody tr th {\n",
       "        vertical-align: top;\n",
       "    }\n",
       "</style>\n",
       "<table border=\"1\" class=\"dataframe\">\n",
       "  <thead>\n",
       "    <tr style=\"text-align: right;\">\n",
       "      <th></th>\n",
       "      <th>Age</th>\n",
       "      <th>Sex</th>\n",
       "      <th>CP</th>\n",
       "      <th>Trestbps</th>\n",
       "      <th>Chol</th>\n",
       "      <th>Fbs</th>\n",
       "      <th>Restecg</th>\n",
       "      <th>Thalach</th>\n",
       "      <th>Exang</th>\n",
       "      <th>Oldpeak</th>\n",
       "      <th>Slope</th>\n",
       "      <th>CA</th>\n",
       "      <th>Thal</th>\n",
       "    </tr>\n",
       "  </thead>\n",
       "  <tbody>\n",
       "    <tr>\n",
       "      <th>25</th>\n",
       "      <td>58.0</td>\n",
       "      <td>0.0</td>\n",
       "      <td>3.0</td>\n",
       "      <td>120</td>\n",
       "      <td>340</td>\n",
       "      <td>0</td>\n",
       "      <td>0</td>\n",
       "      <td>172</td>\n",
       "      <td>0</td>\n",
       "      <td>0</td>\n",
       "      <td>1</td>\n",
       "      <td>0.0</td>\n",
       "      <td>3.0</td>\n",
       "    </tr>\n",
       "    <tr>\n",
       "      <th>84</th>\n",
       "      <td>44.0</td>\n",
       "      <td>1.0</td>\n",
       "      <td>3.0</td>\n",
       "      <td>140</td>\n",
       "      <td>235</td>\n",
       "      <td>0</td>\n",
       "      <td>2</td>\n",
       "      <td>180</td>\n",
       "      <td>0</td>\n",
       "      <td>0</td>\n",
       "      <td>1</td>\n",
       "      <td>0.0</td>\n",
       "      <td>3.0</td>\n",
       "    </tr>\n",
       "    <tr>\n",
       "      <th>10</th>\n",
       "      <td>56.0</td>\n",
       "      <td>0.0</td>\n",
       "      <td>2.0</td>\n",
       "      <td>140</td>\n",
       "      <td>294</td>\n",
       "      <td>0</td>\n",
       "      <td>2</td>\n",
       "      <td>153</td>\n",
       "      <td>0</td>\n",
       "      <td>1.3</td>\n",
       "      <td>2</td>\n",
       "      <td>0.0</td>\n",
       "      <td>3.0</td>\n",
       "    </tr>\n",
       "    <tr>\n",
       "      <th>80</th>\n",
       "      <td>61.0</td>\n",
       "      <td>1.0</td>\n",
       "      <td>4.0</td>\n",
       "      <td>146</td>\n",
       "      <td>241</td>\n",
       "      <td>0</td>\n",
       "      <td>0</td>\n",
       "      <td>148</td>\n",
       "      <td>1</td>\n",
       "      <td>3</td>\n",
       "      <td>3</td>\n",
       "      <td>NaN</td>\n",
       "      <td>NaN</td>\n",
       "    </tr>\n",
       "    <tr>\n",
       "      <th>27</th>\n",
       "      <td>38.0</td>\n",
       "      <td>1.0</td>\n",
       "      <td>2.0</td>\n",
       "      <td>140</td>\n",
       "      <td>297</td>\n",
       "      <td>0</td>\n",
       "      <td>0</td>\n",
       "      <td>150</td>\n",
       "      <td>0</td>\n",
       "      <td>0</td>\n",
       "      <td>NaN</td>\n",
       "      <td>NaN</td>\n",
       "      <td>NaN</td>\n",
       "    </tr>\n",
       "  </tbody>\n",
       "</table>\n",
       "</div>"
      ],
      "text/plain": [
       "     Age  Sex   CP Trestbps Chol Fbs Restecg Thalach Exang Oldpeak Slope   CA  \\\n",
       "25  58.0  0.0  3.0      120  340   0       0     172     0       0     1  0.0   \n",
       "84  44.0  1.0  3.0      140  235   0       2     180     0       0     1  0.0   \n",
       "10  56.0  0.0  2.0      140  294   0       2     153     0     1.3     2  0.0   \n",
       "80  61.0  1.0  4.0      146  241   0       0     148     1       3     3  NaN   \n",
       "27  38.0  1.0  2.0      140  297   0       0     150     0       0   NaN  NaN   \n",
       "\n",
       "   Thal  \n",
       "25  3.0  \n",
       "84  3.0  \n",
       "10  3.0  \n",
       "80  NaN  \n",
       "27  NaN  "
      ]
     },
     "execution_count": 9,
     "metadata": {},
     "output_type": "execute_result"
    }
   ],
   "source": [
    "train_x.head()"
   ]
  },
  {
   "cell_type": "code",
   "execution_count": 10,
   "metadata": {
    "collapsed": true,
    "scrolled": true
   },
   "outputs": [],
   "source": [
    "from sklearn.base import TransformerMixin, BaseEstimator\n",
    "# This is a custom transformer. Makes all dtypes to float.\n",
    "class NumericTransformer(TransformerMixin, BaseEstimator):\n",
    "    def fit(self, data):\n",
    "        return self\n",
    "    def transform(self, data):\n",
    "        return data.apply(pd.to_numeric)\n",
    "\n",
    "        \n",
    "nt = NumericTransformer()\n",
    "nt.fit(train_x)\n",
    "train_x_num = nt.transform(train_x)"
   ]
  },
  {
   "cell_type": "code",
   "execution_count": 11,
   "metadata": {},
   "outputs": [
    {
     "name": "stdout",
     "output_type": "stream",
     "text": [
      "<class 'pandas.core.frame.DataFrame'>\n",
      "Int64Index: 732 entries, 25 to 102\n",
      "Data columns (total 13 columns):\n",
      "Age         732 non-null float64\n",
      "Sex         732 non-null float64\n",
      "CP          732 non-null float64\n",
      "Trestbps    687 non-null float64\n",
      "Chol        710 non-null float64\n",
      "Fbs         662 non-null float64\n",
      "Restecg     730 non-null float64\n",
      "Thalach     689 non-null float64\n",
      "Exang       689 non-null float64\n",
      "Oldpeak     683 non-null float64\n",
      "Slope       492 non-null float64\n",
      "CA          249 non-null float64\n",
      "Thal        341 non-null float64\n",
      "dtypes: float64(13)\n",
      "memory usage: 80.1 KB\n"
     ]
    }
   ],
   "source": [
    "train_x_num.info()\n",
    "# Here there is a problem, the Thal, CA, Slope have lots of NaN's, it may be a problem. \n",
    "# Maybe they will not be used for model!!."
   ]
  },
  {
   "cell_type": "code",
   "execution_count": 12,
   "metadata": {},
   "outputs": [
    {
     "data": {
      "text/html": [
       "<div>\n",
       "<style>\n",
       "    .dataframe thead tr:only-child th {\n",
       "        text-align: right;\n",
       "    }\n",
       "\n",
       "    .dataframe thead th {\n",
       "        text-align: left;\n",
       "    }\n",
       "\n",
       "    .dataframe tbody tr th {\n",
       "        vertical-align: top;\n",
       "    }\n",
       "</style>\n",
       "<table border=\"1\" class=\"dataframe\">\n",
       "  <thead>\n",
       "    <tr style=\"text-align: right;\">\n",
       "      <th></th>\n",
       "      <th>Age</th>\n",
       "      <th>Sex</th>\n",
       "      <th>CP</th>\n",
       "      <th>Trestbps</th>\n",
       "      <th>Chol</th>\n",
       "      <th>Fbs</th>\n",
       "      <th>Restecg</th>\n",
       "      <th>Thalach</th>\n",
       "      <th>Exang</th>\n",
       "      <th>Oldpeak</th>\n",
       "      <th>Slope</th>\n",
       "      <th>CA</th>\n",
       "      <th>Thal</th>\n",
       "    </tr>\n",
       "  </thead>\n",
       "  <tbody>\n",
       "    <tr>\n",
       "      <th>25</th>\n",
       "      <td>58.0</td>\n",
       "      <td>0.0</td>\n",
       "      <td>3.0</td>\n",
       "      <td>120.0</td>\n",
       "      <td>340.0</td>\n",
       "      <td>0.0</td>\n",
       "      <td>0.0</td>\n",
       "      <td>172.0</td>\n",
       "      <td>0.0</td>\n",
       "      <td>0.0</td>\n",
       "      <td>1.0</td>\n",
       "      <td>0.0</td>\n",
       "      <td>3.0</td>\n",
       "    </tr>\n",
       "    <tr>\n",
       "      <th>84</th>\n",
       "      <td>44.0</td>\n",
       "      <td>1.0</td>\n",
       "      <td>3.0</td>\n",
       "      <td>140.0</td>\n",
       "      <td>235.0</td>\n",
       "      <td>0.0</td>\n",
       "      <td>2.0</td>\n",
       "      <td>180.0</td>\n",
       "      <td>0.0</td>\n",
       "      <td>0.0</td>\n",
       "      <td>1.0</td>\n",
       "      <td>0.0</td>\n",
       "      <td>3.0</td>\n",
       "    </tr>\n",
       "    <tr>\n",
       "      <th>10</th>\n",
       "      <td>56.0</td>\n",
       "      <td>0.0</td>\n",
       "      <td>2.0</td>\n",
       "      <td>140.0</td>\n",
       "      <td>294.0</td>\n",
       "      <td>0.0</td>\n",
       "      <td>2.0</td>\n",
       "      <td>153.0</td>\n",
       "      <td>0.0</td>\n",
       "      <td>1.3</td>\n",
       "      <td>2.0</td>\n",
       "      <td>0.0</td>\n",
       "      <td>3.0</td>\n",
       "    </tr>\n",
       "    <tr>\n",
       "      <th>80</th>\n",
       "      <td>61.0</td>\n",
       "      <td>1.0</td>\n",
       "      <td>4.0</td>\n",
       "      <td>146.0</td>\n",
       "      <td>241.0</td>\n",
       "      <td>0.0</td>\n",
       "      <td>0.0</td>\n",
       "      <td>148.0</td>\n",
       "      <td>1.0</td>\n",
       "      <td>3.0</td>\n",
       "      <td>3.0</td>\n",
       "      <td>NaN</td>\n",
       "      <td>NaN</td>\n",
       "    </tr>\n",
       "    <tr>\n",
       "      <th>27</th>\n",
       "      <td>38.0</td>\n",
       "      <td>1.0</td>\n",
       "      <td>2.0</td>\n",
       "      <td>140.0</td>\n",
       "      <td>297.0</td>\n",
       "      <td>0.0</td>\n",
       "      <td>0.0</td>\n",
       "      <td>150.0</td>\n",
       "      <td>0.0</td>\n",
       "      <td>0.0</td>\n",
       "      <td>NaN</td>\n",
       "      <td>NaN</td>\n",
       "      <td>NaN</td>\n",
       "    </tr>\n",
       "  </tbody>\n",
       "</table>\n",
       "</div>"
      ],
      "text/plain": [
       "     Age  Sex   CP  Trestbps   Chol  Fbs  Restecg  Thalach  Exang  Oldpeak  \\\n",
       "25  58.0  0.0  3.0     120.0  340.0  0.0      0.0    172.0    0.0      0.0   \n",
       "84  44.0  1.0  3.0     140.0  235.0  0.0      2.0    180.0    0.0      0.0   \n",
       "10  56.0  0.0  2.0     140.0  294.0  0.0      2.0    153.0    0.0      1.3   \n",
       "80  61.0  1.0  4.0     146.0  241.0  0.0      0.0    148.0    1.0      3.0   \n",
       "27  38.0  1.0  2.0     140.0  297.0  0.0      0.0    150.0    0.0      0.0   \n",
       "\n",
       "    Slope   CA  Thal  \n",
       "25    1.0  0.0   3.0  \n",
       "84    1.0  0.0   3.0  \n",
       "10    2.0  0.0   3.0  \n",
       "80    3.0  NaN   NaN  \n",
       "27    NaN  NaN   NaN  "
      ]
     },
     "execution_count": 12,
     "metadata": {},
     "output_type": "execute_result"
    }
   ],
   "source": [
    "train_x_num.head()"
   ]
  },
  {
   "cell_type": "code",
   "execution_count": 13,
   "metadata": {},
   "outputs": [
    {
     "data": {
      "text/html": [
       "<div>\n",
       "<style>\n",
       "    .dataframe thead tr:only-child th {\n",
       "        text-align: right;\n",
       "    }\n",
       "\n",
       "    .dataframe thead th {\n",
       "        text-align: left;\n",
       "    }\n",
       "\n",
       "    .dataframe tbody tr th {\n",
       "        vertical-align: top;\n",
       "    }\n",
       "</style>\n",
       "<table border=\"1\" class=\"dataframe\">\n",
       "  <thead>\n",
       "    <tr style=\"text-align: right;\">\n",
       "      <th></th>\n",
       "      <th>Age</th>\n",
       "      <th>Sex</th>\n",
       "      <th>CP</th>\n",
       "      <th>Trestbps</th>\n",
       "      <th>Chol</th>\n",
       "      <th>Fbs</th>\n",
       "      <th>Restecg</th>\n",
       "      <th>Thalach</th>\n",
       "      <th>Exang</th>\n",
       "      <th>Oldpeak</th>\n",
       "      <th>Slope</th>\n",
       "      <th>CA</th>\n",
       "      <th>Thal</th>\n",
       "    </tr>\n",
       "  </thead>\n",
       "  <tbody>\n",
       "    <tr>\n",
       "      <th>count</th>\n",
       "      <td>732.000000</td>\n",
       "      <td>732.000000</td>\n",
       "      <td>732.000000</td>\n",
       "      <td>687.000000</td>\n",
       "      <td>710.000000</td>\n",
       "      <td>662.000000</td>\n",
       "      <td>730.000000</td>\n",
       "      <td>689.000000</td>\n",
       "      <td>689.000000</td>\n",
       "      <td>683.000000</td>\n",
       "      <td>492.000000</td>\n",
       "      <td>249.000000</td>\n",
       "      <td>341.000000</td>\n",
       "    </tr>\n",
       "    <tr>\n",
       "      <th>mean</th>\n",
       "      <td>53.519126</td>\n",
       "      <td>0.784153</td>\n",
       "      <td>3.243169</td>\n",
       "      <td>132.292576</td>\n",
       "      <td>200.007042</td>\n",
       "      <td>0.151057</td>\n",
       "      <td>0.609589</td>\n",
       "      <td>137.898403</td>\n",
       "      <td>0.397678</td>\n",
       "      <td>0.887408</td>\n",
       "      <td>1.768293</td>\n",
       "      <td>0.642570</td>\n",
       "      <td>5.046921</td>\n",
       "    </tr>\n",
       "    <tr>\n",
       "      <th>std</th>\n",
       "      <td>9.516113</td>\n",
       "      <td>0.411690</td>\n",
       "      <td>0.928877</td>\n",
       "      <td>19.748646</td>\n",
       "      <td>109.579327</td>\n",
       "      <td>0.358376</td>\n",
       "      <td>0.809522</td>\n",
       "      <td>25.781024</td>\n",
       "      <td>0.489774</td>\n",
       "      <td>1.080480</td>\n",
       "      <td>0.627907</td>\n",
       "      <td>0.931502</td>\n",
       "      <td>1.916837</td>\n",
       "    </tr>\n",
       "    <tr>\n",
       "      <th>min</th>\n",
       "      <td>29.000000</td>\n",
       "      <td>0.000000</td>\n",
       "      <td>1.000000</td>\n",
       "      <td>0.000000</td>\n",
       "      <td>0.000000</td>\n",
       "      <td>0.000000</td>\n",
       "      <td>0.000000</td>\n",
       "      <td>60.000000</td>\n",
       "      <td>0.000000</td>\n",
       "      <td>-1.500000</td>\n",
       "      <td>1.000000</td>\n",
       "      <td>0.000000</td>\n",
       "      <td>3.000000</td>\n",
       "    </tr>\n",
       "    <tr>\n",
       "      <th>25%</th>\n",
       "      <td>47.000000</td>\n",
       "      <td>1.000000</td>\n",
       "      <td>3.000000</td>\n",
       "      <td>120.000000</td>\n",
       "      <td>177.000000</td>\n",
       "      <td>0.000000</td>\n",
       "      <td>0.000000</td>\n",
       "      <td>120.000000</td>\n",
       "      <td>0.000000</td>\n",
       "      <td>0.000000</td>\n",
       "      <td>1.000000</td>\n",
       "      <td>0.000000</td>\n",
       "      <td>3.000000</td>\n",
       "    </tr>\n",
       "    <tr>\n",
       "      <th>50%</th>\n",
       "      <td>54.000000</td>\n",
       "      <td>1.000000</td>\n",
       "      <td>4.000000</td>\n",
       "      <td>130.000000</td>\n",
       "      <td>223.000000</td>\n",
       "      <td>0.000000</td>\n",
       "      <td>0.000000</td>\n",
       "      <td>140.000000</td>\n",
       "      <td>0.000000</td>\n",
       "      <td>0.500000</td>\n",
       "      <td>2.000000</td>\n",
       "      <td>0.000000</td>\n",
       "      <td>6.000000</td>\n",
       "    </tr>\n",
       "    <tr>\n",
       "      <th>75%</th>\n",
       "      <td>60.000000</td>\n",
       "      <td>1.000000</td>\n",
       "      <td>4.000000</td>\n",
       "      <td>142.000000</td>\n",
       "      <td>269.000000</td>\n",
       "      <td>0.000000</td>\n",
       "      <td>1.000000</td>\n",
       "      <td>158.000000</td>\n",
       "      <td>1.000000</td>\n",
       "      <td>1.500000</td>\n",
       "      <td>2.000000</td>\n",
       "      <td>1.000000</td>\n",
       "      <td>7.000000</td>\n",
       "    </tr>\n",
       "    <tr>\n",
       "      <th>max</th>\n",
       "      <td>77.000000</td>\n",
       "      <td>1.000000</td>\n",
       "      <td>4.000000</td>\n",
       "      <td>200.000000</td>\n",
       "      <td>564.000000</td>\n",
       "      <td>1.000000</td>\n",
       "      <td>2.000000</td>\n",
       "      <td>202.000000</td>\n",
       "      <td>1.000000</td>\n",
       "      <td>6.200000</td>\n",
       "      <td>3.000000</td>\n",
       "      <td>3.000000</td>\n",
       "      <td>7.000000</td>\n",
       "    </tr>\n",
       "  </tbody>\n",
       "</table>\n",
       "</div>"
      ],
      "text/plain": [
       "              Age         Sex          CP    Trestbps        Chol         Fbs  \\\n",
       "count  732.000000  732.000000  732.000000  687.000000  710.000000  662.000000   \n",
       "mean    53.519126    0.784153    3.243169  132.292576  200.007042    0.151057   \n",
       "std      9.516113    0.411690    0.928877   19.748646  109.579327    0.358376   \n",
       "min     29.000000    0.000000    1.000000    0.000000    0.000000    0.000000   \n",
       "25%     47.000000    1.000000    3.000000  120.000000  177.000000    0.000000   \n",
       "50%     54.000000    1.000000    4.000000  130.000000  223.000000    0.000000   \n",
       "75%     60.000000    1.000000    4.000000  142.000000  269.000000    0.000000   \n",
       "max     77.000000    1.000000    4.000000  200.000000  564.000000    1.000000   \n",
       "\n",
       "          Restecg     Thalach       Exang     Oldpeak       Slope          CA  \\\n",
       "count  730.000000  689.000000  689.000000  683.000000  492.000000  249.000000   \n",
       "mean     0.609589  137.898403    0.397678    0.887408    1.768293    0.642570   \n",
       "std      0.809522   25.781024    0.489774    1.080480    0.627907    0.931502   \n",
       "min      0.000000   60.000000    0.000000   -1.500000    1.000000    0.000000   \n",
       "25%      0.000000  120.000000    0.000000    0.000000    1.000000    0.000000   \n",
       "50%      0.000000  140.000000    0.000000    0.500000    2.000000    0.000000   \n",
       "75%      1.000000  158.000000    1.000000    1.500000    2.000000    1.000000   \n",
       "max      2.000000  202.000000    1.000000    6.200000    3.000000    3.000000   \n",
       "\n",
       "             Thal  \n",
       "count  341.000000  \n",
       "mean     5.046921  \n",
       "std      1.916837  \n",
       "min      3.000000  \n",
       "25%      3.000000  \n",
       "50%      6.000000  \n",
       "75%      7.000000  \n",
       "max      7.000000  "
      ]
     },
     "execution_count": 13,
     "metadata": {},
     "output_type": "execute_result"
    }
   ],
   "source": [
    "train_x_num.describe() \n",
    "# Now we can see further horizon!"
   ]
  },
  {
   "cell_type": "code",
   "execution_count": 14,
   "metadata": {
    "scrolled": true
   },
   "outputs": [
    {
     "data": {
      "image/png": "[encoded data removed]",
      "text/plain": [
       "<matplotlib.figure.Figure at 0x1fabaad8dd8>"
      ]
     },
     "metadata": {},
     "output_type": "display_data"
    }
   ],
   "source": [
    "%matplotlib inline\n",
    "import matplotlib.pyplot as plt\n",
    "train_x_num.hist()\n",
    "plt.show()\n",
    "\n",
    "# The Ca, Cp, Restecg, Slope, Thal are categorical as can be seen here.\n",
    "# Sex, Fbs, Exangs are boolean values. So I do not touch them.\n",
    "# Sex, FBS are very imbalanced, we will try to drop them.\n",
    "# We need to handle categoricals.\n",
    "# Thanks to the plots, we can see general perspective."
   ]
  },
  {
   "cell_type": "code",
   "execution_count": 15,
   "metadata": {},
   "outputs": [
    {
     "data": {
      "image/png": "[encoded data removed]",
      "text/plain": [
       "<matplotlib.figure.Figure at 0x1fabea63278>"
      ]
     },
     "metadata": {},
     "output_type": "display_data"
    }
   ],
   "source": [
    "train_y.hist()\n",
    "plt.show()\n",
    "# Labels are also categories, so we need to use multiclass classifiers.\n",
    "# OR translate the class int 0 (if 0) and 1 (else).\n",
    "# 0 Means Negative class, 1, 2, 3 and 4 are positive classes."
   ]
  },
  {
   "cell_type": "code",
   "execution_count": 16,
   "metadata": {
    "collapsed": true
   },
   "outputs": [],
   "source": [
    "from sklearn.preprocessing import Imputer, OneHotEncoder\n",
    "# I will fill the NaN values with median value, the categoricals will not affected by the way.\n",
    "fill_na = Imputer(strategy=\"median\")\n",
    "# I need the imputer for test set also, so fit them with training data.\n",
    "fill_na.fit(train_x_num)\n",
    "train_x_na = fill_na.transform(train_x_num)"
   ]
  },
  {
   "cell_type": "code",
   "execution_count": 17,
   "metadata": {},
   "outputs": [
    {
     "name": "stdout",
     "output_type": "stream",
     "text": [
      "<class 'pandas.core.frame.DataFrame'>\n",
      "RangeIndex: 732 entries, 0 to 731\n",
      "Data columns (total 13 columns):\n",
      "Age         732 non-null float64\n",
      "Sex         732 non-null float64\n",
      "CP          732 non-null float64\n",
      "Trestbps    732 non-null float64\n",
      "Chol        732 non-null float64\n",
      "Fbs         732 non-null float64\n",
      "Restecg     732 non-null float64\n",
      "Thalach     732 non-null float64\n",
      "Exang       732 non-null float64\n",
      "Oldpeak     732 non-null float64\n",
      "Slope       732 non-null float64\n",
      "CA          732 non-null float64\n",
      "Thal        732 non-null float64\n",
      "dtypes: float64(13)\n",
      "memory usage: 74.4 KB\n"
     ]
    }
   ],
   "source": [
    "train_x_na = pd.DataFrame(train_x_na, columns=train_x.columns)\n",
    "train_x_na.info()\n",
    "# Now there is no NULLs."
   ]
  },
  {
   "cell_type": "code",
   "execution_count": 18,
   "metadata": {},
   "outputs": [
    {
     "data": {
      "image/png": "[encoded data removed]",
      "text/plain": [
       "<matplotlib.figure.Figure at 0x1faaa9fed30>"
      ]
     },
     "metadata": {},
     "output_type": "display_data"
    }
   ],
   "source": [
    "train_x_na.hist()\n",
    "plt.show()\n",
    "# General picture not change very much. That is a realistic data set now!\n",
    "# Except the Thal, CA and Slope columns, they changed a lot actually."
   ]
  },
  {
   "cell_type": "code",
   "execution_count": 19,
   "metadata": {},
   "outputs": [
    {
     "data": {
      "text/html": [
       "<div>\n",
       "<style>\n",
       "    .dataframe thead tr:only-child th {\n",
       "        text-align: right;\n",
       "    }\n",
       "\n",
       "    .dataframe thead th {\n",
       "        text-align: left;\n",
       "    }\n",
       "\n",
       "    .dataframe tbody tr th {\n",
       "        vertical-align: top;\n",
       "    }\n",
       "</style>\n",
       "<table border=\"1\" class=\"dataframe\">\n",
       "  <thead>\n",
       "    <tr style=\"text-align: right;\">\n",
       "      <th></th>\n",
       "      <th>Age</th>\n",
       "      <th>Sex</th>\n",
       "      <th>CP</th>\n",
       "      <th>Trestbps</th>\n",
       "      <th>Chol</th>\n",
       "      <th>Fbs</th>\n",
       "      <th>Restecg</th>\n",
       "      <th>Thalach</th>\n",
       "      <th>Exang</th>\n",
       "      <th>Oldpeak</th>\n",
       "      <th>Slope</th>\n",
       "      <th>CA</th>\n",
       "      <th>Thal</th>\n",
       "    </tr>\n",
       "  </thead>\n",
       "  <tbody>\n",
       "    <tr>\n",
       "      <th>0</th>\n",
       "      <td>58.0</td>\n",
       "      <td>0.0</td>\n",
       "      <td>3.0</td>\n",
       "      <td>120.0</td>\n",
       "      <td>340.0</td>\n",
       "      <td>0.0</td>\n",
       "      <td>0.0</td>\n",
       "      <td>172.0</td>\n",
       "      <td>0.0</td>\n",
       "      <td>0.0</td>\n",
       "      <td>1.0</td>\n",
       "      <td>0.0</td>\n",
       "      <td>3.0</td>\n",
       "    </tr>\n",
       "    <tr>\n",
       "      <th>1</th>\n",
       "      <td>44.0</td>\n",
       "      <td>1.0</td>\n",
       "      <td>3.0</td>\n",
       "      <td>140.0</td>\n",
       "      <td>235.0</td>\n",
       "      <td>0.0</td>\n",
       "      <td>2.0</td>\n",
       "      <td>180.0</td>\n",
       "      <td>0.0</td>\n",
       "      <td>0.0</td>\n",
       "      <td>1.0</td>\n",
       "      <td>0.0</td>\n",
       "      <td>3.0</td>\n",
       "    </tr>\n",
       "    <tr>\n",
       "      <th>2</th>\n",
       "      <td>56.0</td>\n",
       "      <td>0.0</td>\n",
       "      <td>2.0</td>\n",
       "      <td>140.0</td>\n",
       "      <td>294.0</td>\n",
       "      <td>0.0</td>\n",
       "      <td>2.0</td>\n",
       "      <td>153.0</td>\n",
       "      <td>0.0</td>\n",
       "      <td>1.3</td>\n",
       "      <td>2.0</td>\n",
       "      <td>0.0</td>\n",
       "      <td>3.0</td>\n",
       "    </tr>\n",
       "    <tr>\n",
       "      <th>3</th>\n",
       "      <td>61.0</td>\n",
       "      <td>1.0</td>\n",
       "      <td>4.0</td>\n",
       "      <td>146.0</td>\n",
       "      <td>241.0</td>\n",
       "      <td>0.0</td>\n",
       "      <td>0.0</td>\n",
       "      <td>148.0</td>\n",
       "      <td>1.0</td>\n",
       "      <td>3.0</td>\n",
       "      <td>3.0</td>\n",
       "      <td>0.0</td>\n",
       "      <td>6.0</td>\n",
       "    </tr>\n",
       "    <tr>\n",
       "      <th>4</th>\n",
       "      <td>38.0</td>\n",
       "      <td>1.0</td>\n",
       "      <td>2.0</td>\n",
       "      <td>140.0</td>\n",
       "      <td>297.0</td>\n",
       "      <td>0.0</td>\n",
       "      <td>0.0</td>\n",
       "      <td>150.0</td>\n",
       "      <td>0.0</td>\n",
       "      <td>0.0</td>\n",
       "      <td>2.0</td>\n",
       "      <td>0.0</td>\n",
       "      <td>6.0</td>\n",
       "    </tr>\n",
       "  </tbody>\n",
       "</table>\n",
       "</div>"
      ],
      "text/plain": [
       "    Age  Sex   CP  Trestbps   Chol  Fbs  Restecg  Thalach  Exang  Oldpeak  \\\n",
       "0  58.0  0.0  3.0     120.0  340.0  0.0      0.0    172.0    0.0      0.0   \n",
       "1  44.0  1.0  3.0     140.0  235.0  0.0      2.0    180.0    0.0      0.0   \n",
       "2  56.0  0.0  2.0     140.0  294.0  0.0      2.0    153.0    0.0      1.3   \n",
       "3  61.0  1.0  4.0     146.0  241.0  0.0      0.0    148.0    1.0      3.0   \n",
       "4  38.0  1.0  2.0     140.0  297.0  0.0      0.0    150.0    0.0      0.0   \n",
       "\n",
       "   Slope   CA  Thal  \n",
       "0    1.0  0.0   3.0  \n",
       "1    1.0  0.0   3.0  \n",
       "2    2.0  0.0   3.0  \n",
       "3    3.0  0.0   6.0  \n",
       "4    2.0  0.0   6.0  "
      ]
     },
     "execution_count": 19,
     "metadata": {},
     "output_type": "execute_result"
    }
   ],
   "source": [
    "train_x_na.head()"
   ]
  },
  {
   "cell_type": "code",
   "execution_count": 20,
   "metadata": {
    "scrolled": true
   },
   "outputs": [
    {
     "data": {
      "text/html": [
       "<div>\n",
       "<style>\n",
       "    .dataframe thead tr:only-child th {\n",
       "        text-align: right;\n",
       "    }\n",
       "\n",
       "    .dataframe thead th {\n",
       "        text-align: left;\n",
       "    }\n",
       "\n",
       "    .dataframe tbody tr th {\n",
       "        vertical-align: top;\n",
       "    }\n",
       "</style>\n",
       "<table border=\"1\" class=\"dataframe\">\n",
       "  <thead>\n",
       "    <tr style=\"text-align: right;\">\n",
       "      <th></th>\n",
       "      <th>Age</th>\n",
       "      <th>Sex</th>\n",
       "      <th>CP</th>\n",
       "      <th>Trestbps</th>\n",
       "      <th>Chol</th>\n",
       "      <th>Fbs</th>\n",
       "      <th>Restecg</th>\n",
       "      <th>Thalach</th>\n",
       "      <th>Exang</th>\n",
       "      <th>Oldpeak</th>\n",
       "      <th>Slope</th>\n",
       "      <th>CA</th>\n",
       "      <th>Thal</th>\n",
       "    </tr>\n",
       "  </thead>\n",
       "  <tbody>\n",
       "    <tr>\n",
       "      <th>count</th>\n",
       "      <td>732.000000</td>\n",
       "      <td>732.000000</td>\n",
       "      <td>732.000000</td>\n",
       "      <td>732.000000</td>\n",
       "      <td>732.000000</td>\n",
       "      <td>732.000000</td>\n",
       "      <td>732.000000</td>\n",
       "      <td>732.000000</td>\n",
       "      <td>732.000000</td>\n",
       "      <td>732.000000</td>\n",
       "      <td>732.000000</td>\n",
       "      <td>732.000000</td>\n",
       "      <td>732.000000</td>\n",
       "    </tr>\n",
       "    <tr>\n",
       "      <th>mean</th>\n",
       "      <td>53.519126</td>\n",
       "      <td>0.784153</td>\n",
       "      <td>3.243169</td>\n",
       "      <td>132.151639</td>\n",
       "      <td>200.698087</td>\n",
       "      <td>0.136612</td>\n",
       "      <td>0.607923</td>\n",
       "      <td>138.021858</td>\n",
       "      <td>0.374317</td>\n",
       "      <td>0.861475</td>\n",
       "      <td>1.844262</td>\n",
       "      <td>0.218579</td>\n",
       "      <td>5.556011</td>\n",
       "    </tr>\n",
       "    <tr>\n",
       "      <th>std</th>\n",
       "      <td>9.516113</td>\n",
       "      <td>0.411690</td>\n",
       "      <td>0.928877</td>\n",
       "      <td>19.139068</td>\n",
       "      <td>107.989273</td>\n",
       "      <td>0.343672</td>\n",
       "      <td>0.809041</td>\n",
       "      <td>25.016155</td>\n",
       "      <td>0.484277</td>\n",
       "      <td>1.048126</td>\n",
       "      <td>0.525994</td>\n",
       "      <td>0.622237</td>\n",
       "      <td>1.391150</td>\n",
       "    </tr>\n",
       "    <tr>\n",
       "      <th>min</th>\n",
       "      <td>29.000000</td>\n",
       "      <td>0.000000</td>\n",
       "      <td>1.000000</td>\n",
       "      <td>0.000000</td>\n",
       "      <td>0.000000</td>\n",
       "      <td>0.000000</td>\n",
       "      <td>0.000000</td>\n",
       "      <td>60.000000</td>\n",
       "      <td>0.000000</td>\n",
       "      <td>-1.500000</td>\n",
       "      <td>1.000000</td>\n",
       "      <td>0.000000</td>\n",
       "      <td>3.000000</td>\n",
       "    </tr>\n",
       "    <tr>\n",
       "      <th>25%</th>\n",
       "      <td>47.000000</td>\n",
       "      <td>1.000000</td>\n",
       "      <td>3.000000</td>\n",
       "      <td>120.000000</td>\n",
       "      <td>179.000000</td>\n",
       "      <td>0.000000</td>\n",
       "      <td>0.000000</td>\n",
       "      <td>120.000000</td>\n",
       "      <td>0.000000</td>\n",
       "      <td>0.000000</td>\n",
       "      <td>2.000000</td>\n",
       "      <td>0.000000</td>\n",
       "      <td>6.000000</td>\n",
       "    </tr>\n",
       "    <tr>\n",
       "      <th>50%</th>\n",
       "      <td>54.000000</td>\n",
       "      <td>1.000000</td>\n",
       "      <td>4.000000</td>\n",
       "      <td>130.000000</td>\n",
       "      <td>223.000000</td>\n",
       "      <td>0.000000</td>\n",
       "      <td>0.000000</td>\n",
       "      <td>140.000000</td>\n",
       "      <td>0.000000</td>\n",
       "      <td>0.500000</td>\n",
       "      <td>2.000000</td>\n",
       "      <td>0.000000</td>\n",
       "      <td>6.000000</td>\n",
       "    </tr>\n",
       "    <tr>\n",
       "      <th>75%</th>\n",
       "      <td>60.000000</td>\n",
       "      <td>1.000000</td>\n",
       "      <td>4.000000</td>\n",
       "      <td>140.000000</td>\n",
       "      <td>267.250000</td>\n",
       "      <td>0.000000</td>\n",
       "      <td>1.000000</td>\n",
       "      <td>156.000000</td>\n",
       "      <td>1.000000</td>\n",
       "      <td>1.500000</td>\n",
       "      <td>2.000000</td>\n",
       "      <td>0.000000</td>\n",
       "      <td>6.000000</td>\n",
       "    </tr>\n",
       "    <tr>\n",
       "      <th>max</th>\n",
       "      <td>77.000000</td>\n",
       "      <td>1.000000</td>\n",
       "      <td>4.000000</td>\n",
       "      <td>200.000000</td>\n",
       "      <td>564.000000</td>\n",
       "      <td>1.000000</td>\n",
       "      <td>2.000000</td>\n",
       "      <td>202.000000</td>\n",
       "      <td>1.000000</td>\n",
       "      <td>6.200000</td>\n",
       "      <td>3.000000</td>\n",
       "      <td>3.000000</td>\n",
       "      <td>7.000000</td>\n",
       "    </tr>\n",
       "  </tbody>\n",
       "</table>\n",
       "</div>"
      ],
      "text/plain": [
       "              Age         Sex          CP    Trestbps        Chol         Fbs  \\\n",
       "count  732.000000  732.000000  732.000000  732.000000  732.000000  732.000000   \n",
       "mean    53.519126    0.784153    3.243169  132.151639  200.698087    0.136612   \n",
       "std      9.516113    0.411690    0.928877   19.139068  107.989273    0.343672   \n",
       "min     29.000000    0.000000    1.000000    0.000000    0.000000    0.000000   \n",
       "25%     47.000000    1.000000    3.000000  120.000000  179.000000    0.000000   \n",
       "50%     54.000000    1.000000    4.000000  130.000000  223.000000    0.000000   \n",
       "75%     60.000000    1.000000    4.000000  140.000000  267.250000    0.000000   \n",
       "max     77.000000    1.000000    4.000000  200.000000  564.000000    1.000000   \n",
       "\n",
       "          Restecg     Thalach       Exang     Oldpeak       Slope          CA  \\\n",
       "count  732.000000  732.000000  732.000000  732.000000  732.000000  732.000000   \n",
       "mean     0.607923  138.021858    0.374317    0.861475    1.844262    0.218579   \n",
       "std      0.809041   25.016155    0.484277    1.048126    0.525994    0.622237   \n",
       "min      0.000000   60.000000    0.000000   -1.500000    1.000000    0.000000   \n",
       "25%      0.000000  120.000000    0.000000    0.000000    2.000000    0.000000   \n",
       "50%      0.000000  140.000000    0.000000    0.500000    2.000000    0.000000   \n",
       "75%      1.000000  156.000000    1.000000    1.500000    2.000000    0.000000   \n",
       "max      2.000000  202.000000    1.000000    6.200000    3.000000    3.000000   \n",
       "\n",
       "             Thal  \n",
       "count  732.000000  \n",
       "mean     5.556011  \n",
       "std      1.391150  \n",
       "min      3.000000  \n",
       "25%      6.000000  \n",
       "50%      6.000000  \n",
       "75%      6.000000  \n",
       "max      7.000000  "
      ]
     },
     "execution_count": 20,
     "metadata": {},
     "output_type": "execute_result"
    }
   ],
   "source": [
    "train_x_na.describe()\n",
    "# Take a look..."
   ]
  },
  {
   "cell_type": "code",
   "execution_count": 21,
   "metadata": {
    "collapsed": true
   },
   "outputs": [],
   "source": [
    "def feature_indices(X, features):\n",
    "    feature_names = X.columns\n",
    "    feature_index = list()\n",
    "    for feature in features:\n",
    "        feature_index.append(feature_names.get_loc(feature))\n",
    "    feature_index.sort()\n",
    "    return feature_index"
   ]
  },
  {
   "cell_type": "code",
   "execution_count": 22,
   "metadata": {},
   "outputs": [
    {
     "data": {
      "text/plain": [
       "(732, 23)"
      ]
     },
     "execution_count": 22,
     "metadata": {},
     "output_type": "execute_result"
    }
   ],
   "source": [
    "# The Ca, Cp, Restecg, Slope are categorical. Now let's handle them with OneHotEncoder\n",
    "cat = OneHotEncoder(categorical_features = feature_indices(train_x_na,[\"CA\", \"CP\", \"Restecg\", \"Thal\"]), sparse=False)\n",
    "train_x_onehot = cat.fit_transform(train_x_na)\n",
    "train_x_onehot.shape\n",
    "# The training set has 732 instances as previous data set, and has some extra features, that is expected."
   ]
  },
  {
   "cell_type": "code",
   "execution_count": 23,
   "metadata": {},
   "outputs": [
    {
     "data": {
      "text/plain": [
       "array([[ 0. ,  0. ,  1. , ...,  0. ,  0. ,  1. ],\n",
       "       [ 0. ,  0. ,  1. , ...,  0. ,  0. ,  1. ],\n",
       "       [ 0. ,  1. ,  0. , ...,  0. ,  1.3,  2. ],\n",
       "       ..., \n",
       "       [ 0. ,  0. ,  1. , ...,  0. ,  0.5,  2. ],\n",
       "       [ 1. ,  0. ,  0. , ...,  0. ,  0. ,  2. ],\n",
       "       [ 0. ,  0. ,  1. , ...,  0. ,  0. ,  1. ]])"
      ]
     },
     "execution_count": 23,
     "metadata": {},
     "output_type": "execute_result"
    }
   ],
   "source": [
    "train_x_onehot"
   ]
  },
  {
   "cell_type": "code",
   "execution_count": 24,
   "metadata": {
    "collapsed": true
   },
   "outputs": [],
   "source": [
    "# Now we can analyze the possible models."
   ]
  },
  {
   "cell_type": "code",
   "execution_count": 25,
   "metadata": {
    "collapsed": true
   },
   "outputs": [],
   "source": [
    "train_x_onehot_df = pd.DataFrame(train_x_onehot)"
   ]
  },
  {
   "cell_type": "code",
   "execution_count": 26,
   "metadata": {
    "scrolled": true
   },
   "outputs": [
    {
     "data": {
      "text/plain": [
       "array([[<matplotlib.axes._subplots.AxesSubplot object at 0x000001FABE6EAFD0>,\n",
       "        <matplotlib.axes._subplots.AxesSubplot object at 0x000001FABEB26EF0>,\n",
       "        <matplotlib.axes._subplots.AxesSubplot object at 0x000001FABEB589B0>,\n",
       "        <matplotlib.axes._subplots.AxesSubplot object at 0x000001FABEB92710>,\n",
       "        <matplotlib.axes._subplots.AxesSubplot object at 0x000001FABEB67048>],\n",
       "       [<matplotlib.axes._subplots.AxesSubplot object at 0x000001FABEB67128>,\n",
       "        <matplotlib.axes._subplots.AxesSubplot object at 0x000001FABEC38320>,\n",
       "        <matplotlib.axes._subplots.AxesSubplot object at 0x000001FABEC74240>,\n",
       "        <matplotlib.axes._subplots.AxesSubplot object at 0x000001FABEC89F28>,\n",
       "        <matplotlib.axes._subplots.AxesSubplot object at 0x000001FABECD7C50>],\n",
       "       [<matplotlib.axes._subplots.AxesSubplot object at 0x000001FABED0CCC0>,\n",
       "        <matplotlib.axes._subplots.AxesSubplot object at 0x000001FABED48CC0>,\n",
       "        <matplotlib.axes._subplots.AxesSubplot object at 0x000001FABED84CC0>,\n",
       "        <matplotlib.axes._subplots.AxesSubplot object at 0x000001FABED21208>,\n",
       "        <matplotlib.axes._subplots.AxesSubplot object at 0x000001FABEDF1710>],\n",
       "       [<matplotlib.axes._subplots.AxesSubplot object at 0x000001FABEE28BE0>,\n",
       "        <matplotlib.axes._subplots.AxesSubplot object at 0x000001FABEE6C160>,\n",
       "        <matplotlib.axes._subplots.AxesSubplot object at 0x000001FABEE930F0>,\n",
       "        <matplotlib.axes._subplots.AxesSubplot object at 0x000001FABE6015F8>,\n",
       "        <matplotlib.axes._subplots.AxesSubplot object at 0x000001FABEAA9D68>],\n",
       "       [<matplotlib.axes._subplots.AxesSubplot object at 0x000001FABE585F98>,\n",
       "        <matplotlib.axes._subplots.AxesSubplot object at 0x000001FABE55F5C0>,\n",
       "        <matplotlib.axes._subplots.AxesSubplot object at 0x000001FABE830940>,\n",
       "        <matplotlib.axes._subplots.AxesSubplot object at 0x000001FABE3EDB00>,\n",
       "        <matplotlib.axes._subplots.AxesSubplot object at 0x000001FABE4FB518>]], dtype=object)"
      ]
     },
     "execution_count": 26,
     "metadata": {},
     "output_type": "execute_result"
    },
    {
     "data": {
      "image/png": "[encoded data removed]",
      "text/plain": [
       "<matplotlib.figure.Figure at 0x1fabe4fcd68>"
      ]
     },
     "metadata": {},
     "output_type": "display_data"
    }
   ],
   "source": [
    "from pandas.plotting import scatter_matrix\n",
    "scatter_matrix(train_x_num.drop([\"CA\", \"CP\", \"Restecg\", \"Thal\", \"Sex\", \"Fbs\", \"Exang\",\"Slope\"], axis = 1), figsize=(24,16))\n",
    "# Except the categories, the correlation is fine."
   ]
  },
  {
   "cell_type": "code",
   "execution_count": 27,
   "metadata": {
    "collapsed": true
   },
   "outputs": [],
   "source": [
    "from sklearn.preprocessing import StandardScaler\n",
    "scale = StandardScaler()\n",
    "scale.fit(train_x_onehot)\n",
    "train_x_scaled = scale.transform(train_x_onehot) #Scaled data set returned"
   ]
  },
  {
   "cell_type": "code",
   "execution_count": 28,
   "metadata": {},
   "outputs": [
    {
     "data": {
      "text/plain": [
       "array([[-0.23399796, -0.47337117,  1.80438742, ..., -0.77346834,\n",
       "        -0.82248154, -1.60617577],\n",
       "       [-0.23399796, -0.47337117,  1.80438742, ..., -0.77346834,\n",
       "        -0.82248154, -1.60617577],\n",
       "       [-0.23399796,  2.11250718, -0.55420471, ..., -0.77346834,\n",
       "         0.41867519,  0.29628485],\n",
       "       ..., \n",
       "       [-0.23399796, -0.47337117,  1.80438742, ..., -0.77346834,\n",
       "        -0.34511357,  0.29628485],\n",
       "       [ 4.27354161, -0.47337117, -0.55420471, ..., -0.77346834,\n",
       "        -0.82248154,  0.29628485],\n",
       "       [-0.23399796, -0.47337117,  1.80438742, ..., -0.77346834,\n",
       "        -0.82248154, -1.60617577]])"
      ]
     },
     "execution_count": 28,
     "metadata": {},
     "output_type": "execute_result"
    }
   ],
   "source": [
    "train_x_scaled"
   ]
  },
  {
   "cell_type": "code",
   "execution_count": 29,
   "metadata": {
    "collapsed": true
   },
   "outputs": [],
   "source": [
    "def prepare_pipeline(X, categorical_features):\n",
    "    cats = feature_indices(X, categorical_features)\n",
    "    p = Pipeline([\n",
    "        (\"make_numeric\", NumericTransformer()),\n",
    "        (\"fill_na\", Imputer(strategy=\"median\")),\n",
    "        (\"cat\", OneHotEncoder(categorical_features = cats, sparse=False)),\n",
    "        (\"scale\", StandardScaler())\n",
    "    ])\n",
    "    \n",
    "    return p.fit(X)"
   ]
  },
  {
   "cell_type": "code",
   "execution_count": 30,
   "metadata": {
    "collapsed": true
   },
   "outputs": [],
   "source": [
    "train_x_cp = train_x.copy()\n",
    "prep_pipeline = prepare_pipeline(train_x_cp, [\"CA\", \"CP\", \"Restecg\", \"Thal\", \"Slope\"])\n",
    "X_t = prep_pipeline.transform(train_x)\n",
    "# Now we have a full pipeline for data preprocessing."
   ]
  },
  {
   "cell_type": "code",
   "execution_count": 31,
   "metadata": {},
   "outputs": [
    {
     "data": {
      "text/plain": [
       "(732, 25)"
      ]
     },
     "execution_count": 31,
     "metadata": {},
     "output_type": "execute_result"
    }
   ],
   "source": [
    "X_t.shape\n",
    "# The final dataset, scaled, NA cleared, Categorized."
   ]
  },
  {
   "cell_type": "code",
   "execution_count": 32,
   "metadata": {
    "collapsed": true
   },
   "outputs": [],
   "source": [
    "y_t = train_y"
   ]
  },
  {
   "cell_type": "code",
   "execution_count": 33,
   "metadata": {},
   "outputs": [
    {
     "data": {
      "text/plain": [
       "25    0\n",
       "84    0\n",
       "10    0\n",
       "80    2\n",
       "27    0\n",
       "Name: Label, dtype: int64"
      ]
     },
     "execution_count": 33,
     "metadata": {},
     "output_type": "execute_result"
    }
   ],
   "source": [
    "y_t.head()"
   ]
  },
  {
   "cell_type": "code",
   "execution_count": 34,
   "metadata": {
    "collapsed": true
   },
   "outputs": [],
   "source": [
    "from sklearn.model_selection import cross_val_score as tuning\n"
   ]
  },
  {
   "cell_type": "code",
   "execution_count": 35,
   "metadata": {
    "collapsed": true
   },
   "outputs": [],
   "source": [
    "def compute_score(X, y, algorithm):\n",
    "    a = algorithm()\n",
    "    scores = tuning(a, X, y, scoring = \"accuracy\", cv = 5)\n",
    "    return scores.mean()\n",
    "\n",
    "def compare_classifiers(X, y):\n",
    "    np.random.seed(0)\n",
    "    scores = dict()\n",
    "    from sklearn.neighbors import KNeighborsClassifier as KN\n",
    "    scores[\"KNeighbors\"] = compute_score(X, y, KN)\n",
    "\n",
    "    from sklearn.svm import LinearSVC as LSVM\n",
    "    scores[\"LinearSVC\"] = compute_score(X, y, LSVM)\n",
    "\n",
    "    from sklearn.linear_model import LogisticRegression as LR\n",
    "    scores[\"LogisticRegression\"] = compute_score(X, y, LR)\n",
    "\n",
    "    from sklearn.tree import DecisionTreeClassifier as DT\n",
    "    scores[\"DecisionTree\"] = compute_score(X, y, DT)\n",
    "\n",
    "    from sklearn.ensemble import RandomForestClassifier as RF\n",
    "    scores[\"RandomForest\"] = compute_score(X, y, RF)\n",
    "    \n",
    "    from sklearn.svm import SVC\n",
    "    scores[\"SVC\"] = compute_score(X, y, SVC)\n",
    "\n",
    "    from sklearn.svm import LinearSVC as LSVC\n",
    "    scores[\"LinearSVC\"] = compute_score(X, y, LSVC)\n",
    "    \n",
    "    from sklearn.ensemble import GradientBoostingClassifier as GBC\n",
    "    scores[\"GradientBoostingClassifier\"] = compute_score(X, y, GBC)\n",
    "    \n",
    "    from sklearn.gaussian_process import GaussianProcessClassifier as GPC\n",
    "    scores[\"GaussianProcessClassifier\"] = compute_score(X, y, GPC)\n",
    "    \n",
    "    from sklearn.linear_model import Perceptron\n",
    "    scores[\"Perceptron\"] = compute_score(X, y, Perceptron)\n",
    "    \n",
    "    from sklearn.ensemble import ExtraTreesClassifier as ETC\n",
    "    scores[\"ExtraTreesClassifier\"] = compute_score(X,y,ETC)\n",
    "    \n",
    "    from sklearn.ensemble import RandomForestClassifier as RFC\n",
    "    scores[\"RandomForestClassifier\"] = compute_score(X, y, RFC)\n",
    "    \n",
    "    from sklearn.linear_model import RidgeClassifierCV as RCCV\n",
    "    scores[\"RidgeClassifierCV\"] = compute_score(X,y, RCCV)\n",
    "    \n",
    "    summ = 0\n",
    "    for i in scores.values():\n",
    "        summ += i\n",
    "        \n",
    "    scores[\"AVERAGE\"] = summ/float(len(scores))\n",
    "\n",
    "    return scores"
   ]
  },
  {
   "cell_type": "code",
   "execution_count": 40,
   "metadata": {
    "scrolled": true
   },
   "outputs": [
    {
     "name": "stderr",
     "output_type": "stream",
     "text": [
      "C:\\Users\\gulme\\Anaconda3\\lib\\site-packages\\sklearn\\linear_model\\stochastic_gradient.py:128: FutureWarning: max_iter and tol parameters have been added in <class 'sklearn.linear_model.perceptron.Perceptron'> in 0.19. If both are left unset, they default to max_iter=5 and tol=None. If tol is not None, max_iter defaults to max_iter=1000. From 0.21, default max_iter will be 1000, and default tol will be 1e-3.\n",
      "  \"and default tol will be 1e-3.\" % type(self), FutureWarning)\n",
      "C:\\Users\\gulme\\Anaconda3\\lib\\site-packages\\sklearn\\linear_model\\stochastic_gradient.py:128: FutureWarning: max_iter and tol parameters have been added in <class 'sklearn.linear_model.perceptron.Perceptron'> in 0.19. If both are left unset, they default to max_iter=5 and tol=None. If tol is not None, max_iter defaults to max_iter=1000. From 0.21, default max_iter will be 1000, and default tol will be 1e-3.\n",
      "  \"and default tol will be 1e-3.\" % type(self), FutureWarning)\n",
      "C:\\Users\\gulme\\Anaconda3\\lib\\site-packages\\sklearn\\linear_model\\stochastic_gradient.py:128: FutureWarning: max_iter and tol parameters have been added in <class 'sklearn.linear_model.perceptron.Perceptron'> in 0.19. If both are left unset, they default to max_iter=5 and tol=None. If tol is not None, max_iter defaults to max_iter=1000. From 0.21, default max_iter will be 1000, and default tol will be 1e-3.\n",
      "  \"and default tol will be 1e-3.\" % type(self), FutureWarning)\n",
      "C:\\Users\\gulme\\Anaconda3\\lib\\site-packages\\sklearn\\linear_model\\stochastic_gradient.py:128: FutureWarning: max_iter and tol parameters have been added in <class 'sklearn.linear_model.perceptron.Perceptron'> in 0.19. If both are left unset, they default to max_iter=5 and tol=None. If tol is not None, max_iter defaults to max_iter=1000. From 0.21, default max_iter will be 1000, and default tol will be 1e-3.\n",
      "  \"and default tol will be 1e-3.\" % type(self), FutureWarning)\n",
      "C:\\Users\\gulme\\Anaconda3\\lib\\site-packages\\sklearn\\linear_model\\stochastic_gradient.py:128: FutureWarning: max_iter and tol parameters have been added in <class 'sklearn.linear_model.perceptron.Perceptron'> in 0.19. If both are left unset, they default to max_iter=5 and tol=None. If tol is not None, max_iter defaults to max_iter=1000. From 0.21, default max_iter will be 1000, and default tol will be 1e-3.\n",
      "  \"and default tol will be 1e-3.\" % type(self), FutureWarning)\n"
     ]
    },
    {
     "data": {
      "text/plain": [
       "{'AVERAGE': 0.55255408469694189,\n",
       " 'DecisionTree': 0.4905217744134,\n",
       " 'ExtraTreesClassifier': 0.55726654874438131,\n",
       " 'GaussianProcessClassifier': 0.54360442779161988,\n",
       " 'GradientBoostingClassifier': 0.55884233283248064,\n",
       " 'KNeighbors': 0.56146921023768315,\n",
       " 'LinearSVC': 0.56831903684120433,\n",
       " 'LogisticRegression': 0.57106884505899291,\n",
       " 'Perceptron': 0.46959849363790251,\n",
       " 'RandomForest': 0.57097577521222842,\n",
       " 'RandomForestClassifier': 0.58318314091713108,\n",
       " 'RidgeClassifierCV': 0.56837533522262584,\n",
       " 'SVC': 0.58742409545365215}"
      ]
     },
     "execution_count": 40,
     "metadata": {},
     "output_type": "execute_result"
    }
   ],
   "source": [
    "multilabel_results = compare_classifiers(X_t, y_t)\n",
    "multilabel_results"
   ]
  },
  {
   "cell_type": "raw",
   "metadata": {
    "collapsed": true
   },
   "source": [
    "As can be seen, the accuracy is not as good as expected, nearly random actually. \n",
    "One way is to turn the multiclass tarining labels into binary labels to make training data not skewed. Other way is to return to data set and remove the columns with lots of NONE values (3 of them actually.)\n",
    "\n",
    "Let tray first approach first and try. We will return y_t dataset into 0-1 data, 0 means not risk, 1 means disease risk (which denoted as 1,2,3 like risk levels)"
   ]
  },
  {
   "cell_type": "code",
   "execution_count": 36,
   "metadata": {
    "collapsed": true
   },
   "outputs": [],
   "source": [
    "from copy import deepcopy\n",
    "def binary_label(arr_):\n",
    "    arr = np.array(arr_)\n",
    "    for i in range(arr.shape[0]):\n",
    "        if arr[i] != 0:\n",
    "            arr[i] = 1\n",
    "    return arr\n",
    "\n",
    "y_t_bin = binary_label(y_t)"
   ]
  },
  {
   "cell_type": "code",
   "execution_count": 37,
   "metadata": {},
   "outputs": [
    {
     "data": {
      "image/png": "[encoded data removed]",
      "text/plain": [
       "<matplotlib.figure.Figure at 0x1fabe679b70>"
      ]
     },
     "metadata": {},
     "output_type": "display_data"
    }
   ],
   "source": [
    "pd.DataFrame(y_t_bin).hist()\n",
    "plt.show()"
   ]
  },
  {
   "cell_type": "raw",
   "metadata": {},
   "source": [
    "AS can be seen dataset became more balanced. Our instance numbers are nearly 800, which is very small to training skewed data like before and this will work much more better."
   ]
  },
  {
   "cell_type": "code",
   "execution_count": 43,
   "metadata": {
    "scrolled": true
   },
   "outputs": [
    {
     "name": "stderr",
     "output_type": "stream",
     "text": [
      "C:\\Users\\gulme\\Anaconda3\\lib\\site-packages\\sklearn\\linear_model\\stochastic_gradient.py:128: FutureWarning: max_iter and tol parameters have been added in <class 'sklearn.linear_model.perceptron.Perceptron'> in 0.19. If both are left unset, they default to max_iter=5 and tol=None. If tol is not None, max_iter defaults to max_iter=1000. From 0.21, default max_iter will be 1000, and default tol will be 1e-3.\n",
      "  \"and default tol will be 1e-3.\" % type(self), FutureWarning)\n",
      "C:\\Users\\gulme\\Anaconda3\\lib\\site-packages\\sklearn\\linear_model\\stochastic_gradient.py:128: FutureWarning: max_iter and tol parameters have been added in <class 'sklearn.linear_model.perceptron.Perceptron'> in 0.19. If both are left unset, they default to max_iter=5 and tol=None. If tol is not None, max_iter defaults to max_iter=1000. From 0.21, default max_iter will be 1000, and default tol will be 1e-3.\n",
      "  \"and default tol will be 1e-3.\" % type(self), FutureWarning)\n",
      "C:\\Users\\gulme\\Anaconda3\\lib\\site-packages\\sklearn\\linear_model\\stochastic_gradient.py:128: FutureWarning: max_iter and tol parameters have been added in <class 'sklearn.linear_model.perceptron.Perceptron'> in 0.19. If both are left unset, they default to max_iter=5 and tol=None. If tol is not None, max_iter defaults to max_iter=1000. From 0.21, default max_iter will be 1000, and default tol will be 1e-3.\n",
      "  \"and default tol will be 1e-3.\" % type(self), FutureWarning)\n",
      "C:\\Users\\gulme\\Anaconda3\\lib\\site-packages\\sklearn\\linear_model\\stochastic_gradient.py:128: FutureWarning: max_iter and tol parameters have been added in <class 'sklearn.linear_model.perceptron.Perceptron'> in 0.19. If both are left unset, they default to max_iter=5 and tol=None. If tol is not None, max_iter defaults to max_iter=1000. From 0.21, default max_iter will be 1000, and default tol will be 1e-3.\n",
      "  \"and default tol will be 1e-3.\" % type(self), FutureWarning)\n",
      "C:\\Users\\gulme\\Anaconda3\\lib\\site-packages\\sklearn\\linear_model\\stochastic_gradient.py:128: FutureWarning: max_iter and tol parameters have been added in <class 'sklearn.linear_model.perceptron.Perceptron'> in 0.19. If both are left unset, they default to max_iter=5 and tol=None. If tol is not None, max_iter defaults to max_iter=1000. From 0.21, default max_iter will be 1000, and default tol will be 1e-3.\n",
      "  \"and default tol will be 1e-3.\" % type(self), FutureWarning)\n"
     ]
    },
    {
     "data": {
      "text/plain": [
       "{'AVERAGE': 0.78539893015937279,\n",
       " 'DecisionTree': 0.73492106337102636,\n",
       " 'ExtraTreesClassifier': 0.77595365023666529,\n",
       " 'GaussianProcessClassifier': 0.77042709006134336,\n",
       " 'GradientBoostingClassifier': 0.79797512202802701,\n",
       " 'KNeighbors': 0.7990923492684745,\n",
       " 'LinearSVC': 0.81012618935150815,\n",
       " 'LogisticRegression': 0.81016359307067187,\n",
       " 'Perceptron': 0.73875925051173053,\n",
       " 'RandomForest': 0.76785574503774112,\n",
       " 'RandomForestClassifier': 0.79923251681400009,\n",
       " 'RidgeClassifierCV': 0.81147728623806636,\n",
       " 'SVC': 0.80880330592321958}"
      ]
     },
     "execution_count": 43,
     "metadata": {},
     "output_type": "execute_result"
    }
   ],
   "source": [
    "binarylabel_results = compare_classifiers(X_t, y_t_bin)\n",
    "binarylabel_results"
   ]
  },
  {
   "cell_type": "code",
   "execution_count": 44,
   "metadata": {},
   "outputs": [
    {
     "data": {
      "text/plain": [
       "0.7035330244017749"
      ]
     },
     "execution_count": 44,
     "metadata": {},
     "output_type": "execute_result"
    }
   ],
   "source": [
    "def compare_dataset_results(y1, y2):\n",
    "    return y1[\"AVERAGE\"]/y2[\"AVERAGE\"]\n",
    "\n",
    "compare_dataset_results(multilabel_results, binarylabel_results)"
   ]
  },
  {
   "cell_type": "raw",
   "metadata": {},
   "source": [
    "That is a very good result if we compare the previous results. More accurate than previous. Therefore we can use this data set to further steps. \n",
    "\n",
    "Now next step is to feature selection, First of all, try to delete columns with lots of NaN values."
   ]
  },
  {
   "cell_type": "code",
   "execution_count": 38,
   "metadata": {},
   "outputs": [
    {
     "name": "stdout",
     "output_type": "stream",
     "text": [
      "<class 'pandas.core.frame.DataFrame'>\n",
      "Int64Index: 732 entries, 25 to 102\n",
      "Data columns (total 13 columns):\n",
      "Age         732 non-null float64\n",
      "Sex         732 non-null float64\n",
      "CP          732 non-null float64\n",
      "Trestbps    687 non-null float64\n",
      "Chol        710 non-null float64\n",
      "Fbs         662 non-null float64\n",
      "Restecg     730 non-null float64\n",
      "Thalach     689 non-null float64\n",
      "Exang       689 non-null float64\n",
      "Oldpeak     683 non-null float64\n",
      "Slope       492 non-null float64\n",
      "CA          249 non-null float64\n",
      "Thal        341 non-null float64\n",
      "dtypes: float64(13)\n",
      "memory usage: 80.1 KB\n"
     ]
    }
   ],
   "source": [
    "train_x_num.info()\n",
    "\n",
    "# Let's try to eliminate CA and Thal column."
   ]
  },
  {
   "cell_type": "code",
   "execution_count": 39,
   "metadata": {
    "collapsed": true
   },
   "outputs": [],
   "source": [
    "train_x_eliminated = train_x.drop([\"CA\"], axis=1)"
   ]
  },
  {
   "cell_type": "code",
   "execution_count": 40,
   "metadata": {},
   "outputs": [
    {
     "name": "stdout",
     "output_type": "stream",
     "text": [
      "<class 'pandas.core.frame.DataFrame'>\n",
      "Int64Index: 732 entries, 25 to 102\n",
      "Data columns (total 12 columns):\n",
      "Age         732 non-null float64\n",
      "Sex         732 non-null float64\n",
      "CP          732 non-null float64\n",
      "Trestbps    687 non-null object\n",
      "Chol        710 non-null object\n",
      "Fbs         662 non-null object\n",
      "Restecg     730 non-null object\n",
      "Thalach     689 non-null object\n",
      "Exang       689 non-null object\n",
      "Oldpeak     683 non-null object\n",
      "Slope       492 non-null object\n",
      "Thal        341 non-null object\n",
      "dtypes: float64(3), object(9)\n",
      "memory usage: 74.3+ KB\n"
     ]
    }
   ],
   "source": [
    "train_x_eliminated.info()"
   ]
  },
  {
   "cell_type": "code",
   "execution_count": 41,
   "metadata": {
    "collapsed": true
   },
   "outputs": [],
   "source": [
    "pipeline_eliminated = prepare_pipeline(train_x_eliminated, [\"CP\", \"Restecg\", \"Thal\", \"Slope\"])"
   ]
  },
  {
   "cell_type": "code",
   "execution_count": 42,
   "metadata": {
    "collapsed": true
   },
   "outputs": [],
   "source": [
    "train_x_eliminated = pipeline_eliminated.transform(train_x_eliminated)"
   ]
  },
  {
   "cell_type": "code",
   "execution_count": 43,
   "metadata": {},
   "outputs": [
    {
     "data": {
      "text/plain": [
       "(732, 21)"
      ]
     },
     "execution_count": 43,
     "metadata": {},
     "output_type": "execute_result"
    }
   ],
   "source": [
    "train_x_eliminated.shape"
   ]
  },
  {
   "cell_type": "code",
   "execution_count": 51,
   "metadata": {
    "scrolled": true
   },
   "outputs": [
    {
     "name": "stderr",
     "output_type": "stream",
     "text": [
      "C:\\Users\\gulme\\Anaconda3\\lib\\site-packages\\sklearn\\linear_model\\stochastic_gradient.py:128: FutureWarning: max_iter and tol parameters have been added in <class 'sklearn.linear_model.perceptron.Perceptron'> in 0.19. If both are left unset, they default to max_iter=5 and tol=None. If tol is not None, max_iter defaults to max_iter=1000. From 0.21, default max_iter will be 1000, and default tol will be 1e-3.\n",
      "  \"and default tol will be 1e-3.\" % type(self), FutureWarning)\n",
      "C:\\Users\\gulme\\Anaconda3\\lib\\site-packages\\sklearn\\linear_model\\stochastic_gradient.py:128: FutureWarning: max_iter and tol parameters have been added in <class 'sklearn.linear_model.perceptron.Perceptron'> in 0.19. If both are left unset, they default to max_iter=5 and tol=None. If tol is not None, max_iter defaults to max_iter=1000. From 0.21, default max_iter will be 1000, and default tol will be 1e-3.\n",
      "  \"and default tol will be 1e-3.\" % type(self), FutureWarning)\n",
      "C:\\Users\\gulme\\Anaconda3\\lib\\site-packages\\sklearn\\linear_model\\stochastic_gradient.py:128: FutureWarning: max_iter and tol parameters have been added in <class 'sklearn.linear_model.perceptron.Perceptron'> in 0.19. If both are left unset, they default to max_iter=5 and tol=None. If tol is not None, max_iter defaults to max_iter=1000. From 0.21, default max_iter will be 1000, and default tol will be 1e-3.\n",
      "  \"and default tol will be 1e-3.\" % type(self), FutureWarning)\n",
      "C:\\Users\\gulme\\Anaconda3\\lib\\site-packages\\sklearn\\linear_model\\stochastic_gradient.py:128: FutureWarning: max_iter and tol parameters have been added in <class 'sklearn.linear_model.perceptron.Perceptron'> in 0.19. If both are left unset, they default to max_iter=5 and tol=None. If tol is not None, max_iter defaults to max_iter=1000. From 0.21, default max_iter will be 1000, and default tol will be 1e-3.\n",
      "  \"and default tol will be 1e-3.\" % type(self), FutureWarning)\n",
      "C:\\Users\\gulme\\Anaconda3\\lib\\site-packages\\sklearn\\linear_model\\stochastic_gradient.py:128: FutureWarning: max_iter and tol parameters have been added in <class 'sklearn.linear_model.perceptron.Perceptron'> in 0.19. If both are left unset, they default to max_iter=5 and tol=None. If tol is not None, max_iter defaults to max_iter=1000. From 0.21, default max_iter will be 1000, and default tol will be 1e-3.\n",
      "  \"and default tol will be 1e-3.\" % type(self), FutureWarning)\n"
     ]
    },
    {
     "data": {
      "text/plain": [
       "{'AVERAGE': 0.54919485284017311,\n",
       " 'DecisionTree': 0.49201330112660158,\n",
       " 'ExtraTreesClassifier': 0.53550665373325479,\n",
       " 'GaussianProcessClassifier': 0.53957833273104205,\n",
       " 'GradientBoostingClassifier': 0.55609328540363023,\n",
       " 'KNeighbors': 0.56414433434137867,\n",
       " 'LinearSVC': 0.56696844627879117,\n",
       " 'LogisticRegression': 0.56837571561709488,\n",
       " 'Perceptron': 0.49288706722204256,\n",
       " 'RandomForest': 0.57117186856103108,\n",
       " 'RandomForestClassifier': 0.54506837590581436,\n",
       " 'RidgeClassifierCV': 0.56966157572068898,\n",
       " 'SVC': 0.58886927744070605}"
      ]
     },
     "execution_count": 51,
     "metadata": {},
     "output_type": "execute_result"
    }
   ],
   "source": [
    "compare_classifiers(train_x_eliminated, train_y)"
   ]
  },
  {
   "cell_type": "code",
   "execution_count": 52,
   "metadata": {
    "scrolled": true
   },
   "outputs": [
    {
     "name": "stderr",
     "output_type": "stream",
     "text": [
      "C:\\Users\\gulme\\Anaconda3\\lib\\site-packages\\sklearn\\linear_model\\stochastic_gradient.py:128: FutureWarning: max_iter and tol parameters have been added in <class 'sklearn.linear_model.perceptron.Perceptron'> in 0.19. If both are left unset, they default to max_iter=5 and tol=None. If tol is not None, max_iter defaults to max_iter=1000. From 0.21, default max_iter will be 1000, and default tol will be 1e-3.\n",
      "  \"and default tol will be 1e-3.\" % type(self), FutureWarning)\n",
      "C:\\Users\\gulme\\Anaconda3\\lib\\site-packages\\sklearn\\linear_model\\stochastic_gradient.py:128: FutureWarning: max_iter and tol parameters have been added in <class 'sklearn.linear_model.perceptron.Perceptron'> in 0.19. If both are left unset, they default to max_iter=5 and tol=None. If tol is not None, max_iter defaults to max_iter=1000. From 0.21, default max_iter will be 1000, and default tol will be 1e-3.\n",
      "  \"and default tol will be 1e-3.\" % type(self), FutureWarning)\n",
      "C:\\Users\\gulme\\Anaconda3\\lib\\site-packages\\sklearn\\linear_model\\stochastic_gradient.py:128: FutureWarning: max_iter and tol parameters have been added in <class 'sklearn.linear_model.perceptron.Perceptron'> in 0.19. If both are left unset, they default to max_iter=5 and tol=None. If tol is not None, max_iter defaults to max_iter=1000. From 0.21, default max_iter will be 1000, and default tol will be 1e-3.\n",
      "  \"and default tol will be 1e-3.\" % type(self), FutureWarning)\n",
      "C:\\Users\\gulme\\Anaconda3\\lib\\site-packages\\sklearn\\linear_model\\stochastic_gradient.py:128: FutureWarning: max_iter and tol parameters have been added in <class 'sklearn.linear_model.perceptron.Perceptron'> in 0.19. If both are left unset, they default to max_iter=5 and tol=None. If tol is not None, max_iter defaults to max_iter=1000. From 0.21, default max_iter will be 1000, and default tol will be 1e-3.\n",
      "  \"and default tol will be 1e-3.\" % type(self), FutureWarning)\n",
      "C:\\Users\\gulme\\Anaconda3\\lib\\site-packages\\sklearn\\linear_model\\stochastic_gradient.py:128: FutureWarning: max_iter and tol parameters have been added in <class 'sklearn.linear_model.perceptron.Perceptron'> in 0.19. If both are left unset, they default to max_iter=5 and tol=None. If tol is not None, max_iter defaults to max_iter=1000. From 0.21, default max_iter will be 1000, and default tol will be 1e-3.\n",
      "  \"and default tol will be 1e-3.\" % type(self), FutureWarning)\n"
     ]
    },
    {
     "data": {
      "text/plain": [
       "{'AVERAGE': 0.78085288941588293,\n",
       " 'DecisionTree': 0.74319692543999183,\n",
       " 'ExtraTreesClassifier': 0.76637354233143429,\n",
       " 'GaussianProcessClassifier': 0.7717687396167725,\n",
       " 'GradientBoostingClassifier': 0.7842947438777117,\n",
       " 'KNeighbors': 0.78958743440692281,\n",
       " 'LinearSVC': 0.80877509246495016,\n",
       " 'LogisticRegression': 0.80467456514963109,\n",
       " 'Perceptron': 0.70188451762377135,\n",
       " 'RandomForest': 0.78965228037365165,\n",
       " 'RandomForestClassifier': 0.79652087570975483,\n",
       " 'RidgeClassifierCV': 0.80878441126096168,\n",
       " 'SVC': 0.80472154473504087}"
      ]
     },
     "execution_count": 52,
     "metadata": {},
     "output_type": "execute_result"
    }
   ],
   "source": [
    "compare_classifiers(train_x_eliminated, y_t_bin)"
   ]
  },
  {
   "cell_type": "code",
   "execution_count": 53,
   "metadata": {
    "scrolled": true
   },
   "outputs": [
    {
     "name": "stderr",
     "output_type": "stream",
     "text": [
      "C:\\Users\\gulme\\Anaconda3\\lib\\site-packages\\sklearn\\linear_model\\stochastic_gradient.py:128: FutureWarning: max_iter and tol parameters have been added in <class 'sklearn.linear_model.perceptron.Perceptron'> in 0.19. If both are left unset, they default to max_iter=5 and tol=None. If tol is not None, max_iter defaults to max_iter=1000. From 0.21, default max_iter will be 1000, and default tol will be 1e-3.\n",
      "  \"and default tol will be 1e-3.\" % type(self), FutureWarning)\n",
      "C:\\Users\\gulme\\Anaconda3\\lib\\site-packages\\sklearn\\linear_model\\stochastic_gradient.py:128: FutureWarning: max_iter and tol parameters have been added in <class 'sklearn.linear_model.perceptron.Perceptron'> in 0.19. If both are left unset, they default to max_iter=5 and tol=None. If tol is not None, max_iter defaults to max_iter=1000. From 0.21, default max_iter will be 1000, and default tol will be 1e-3.\n",
      "  \"and default tol will be 1e-3.\" % type(self), FutureWarning)\n",
      "C:\\Users\\gulme\\Anaconda3\\lib\\site-packages\\sklearn\\linear_model\\stochastic_gradient.py:128: FutureWarning: max_iter and tol parameters have been added in <class 'sklearn.linear_model.perceptron.Perceptron'> in 0.19. If both are left unset, they default to max_iter=5 and tol=None. If tol is not None, max_iter defaults to max_iter=1000. From 0.21, default max_iter will be 1000, and default tol will be 1e-3.\n",
      "  \"and default tol will be 1e-3.\" % type(self), FutureWarning)\n",
      "C:\\Users\\gulme\\Anaconda3\\lib\\site-packages\\sklearn\\linear_model\\stochastic_gradient.py:128: FutureWarning: max_iter and tol parameters have been added in <class 'sklearn.linear_model.perceptron.Perceptron'> in 0.19. If both are left unset, they default to max_iter=5 and tol=None. If tol is not None, max_iter defaults to max_iter=1000. From 0.21, default max_iter will be 1000, and default tol will be 1e-3.\n",
      "  \"and default tol will be 1e-3.\" % type(self), FutureWarning)\n",
      "C:\\Users\\gulme\\Anaconda3\\lib\\site-packages\\sklearn\\linear_model\\stochastic_gradient.py:128: FutureWarning: max_iter and tol parameters have been added in <class 'sklearn.linear_model.perceptron.Perceptron'> in 0.19. If both are left unset, they default to max_iter=5 and tol=None. If tol is not None, max_iter defaults to max_iter=1000. From 0.21, default max_iter will be 1000, and default tol will be 1e-3.\n",
      "  \"and default tol will be 1e-3.\" % type(self), FutureWarning)\n",
      "C:\\Users\\gulme\\Anaconda3\\lib\\site-packages\\sklearn\\linear_model\\stochastic_gradient.py:128: FutureWarning: max_iter and tol parameters have been added in <class 'sklearn.linear_model.perceptron.Perceptron'> in 0.19. If both are left unset, they default to max_iter=5 and tol=None. If tol is not None, max_iter defaults to max_iter=1000. From 0.21, default max_iter will be 1000, and default tol will be 1e-3.\n",
      "  \"and default tol will be 1e-3.\" % type(self), FutureWarning)\n",
      "C:\\Users\\gulme\\Anaconda3\\lib\\site-packages\\sklearn\\linear_model\\stochastic_gradient.py:128: FutureWarning: max_iter and tol parameters have been added in <class 'sklearn.linear_model.perceptron.Perceptron'> in 0.19. If both are left unset, they default to max_iter=5 and tol=None. If tol is not None, max_iter defaults to max_iter=1000. From 0.21, default max_iter will be 1000, and default tol will be 1e-3.\n",
      "  \"and default tol will be 1e-3.\" % type(self), FutureWarning)\n",
      "C:\\Users\\gulme\\Anaconda3\\lib\\site-packages\\sklearn\\linear_model\\stochastic_gradient.py:128: FutureWarning: max_iter and tol parameters have been added in <class 'sklearn.linear_model.perceptron.Perceptron'> in 0.19. If both are left unset, they default to max_iter=5 and tol=None. If tol is not None, max_iter defaults to max_iter=1000. From 0.21, default max_iter will be 1000, and default tol will be 1e-3.\n",
      "  \"and default tol will be 1e-3.\" % type(self), FutureWarning)\n",
      "C:\\Users\\gulme\\Anaconda3\\lib\\site-packages\\sklearn\\linear_model\\stochastic_gradient.py:128: FutureWarning: max_iter and tol parameters have been added in <class 'sklearn.linear_model.perceptron.Perceptron'> in 0.19. If both are left unset, they default to max_iter=5 and tol=None. If tol is not None, max_iter defaults to max_iter=1000. From 0.21, default max_iter will be 1000, and default tol will be 1e-3.\n",
      "  \"and default tol will be 1e-3.\" % type(self), FutureWarning)\n",
      "C:\\Users\\gulme\\Anaconda3\\lib\\site-packages\\sklearn\\linear_model\\stochastic_gradient.py:128: FutureWarning: max_iter and tol parameters have been added in <class 'sklearn.linear_model.perceptron.Perceptron'> in 0.19. If both are left unset, they default to max_iter=5 and tol=None. If tol is not None, max_iter defaults to max_iter=1000. From 0.21, default max_iter will be 1000, and default tol will be 1e-3.\n",
      "  \"and default tol will be 1e-3.\" % type(self), FutureWarning)\n"
     ]
    },
    {
     "data": {
      "text/plain": [
       "({'AVERAGE': 0.54352410115956895,\n",
       "  'DecisionTree': 0.49877963114416318,\n",
       "  'ExtraTreesClassifier': 0.53555337885387144,\n",
       "  'GaussianProcessClassifier': 0.53827370650030748,\n",
       "  'GradientBoostingClassifier': 0.55070664612536535,\n",
       "  'KNeighbors': 0.55051055277656258,\n",
       "  'LinearSVC': 0.56706189652002459,\n",
       "  'LogisticRegression': 0.56704313039288412,\n",
       "  'Perceptron': 0.47365140650854931,\n",
       "  'RandomForest': 0.55331551819236546,\n",
       "  'RandomForestClassifier': 0.5286196752699216,\n",
       "  'RidgeClassifierCV': 0.5711810614273668,\n",
       "  'SVC': 0.58759261020344766},\n",
       " {'AVERAGE': 0.7657000450944037,\n",
       "  'DecisionTree': 0.71986124634076576,\n",
       "  'ExtraTreesClassifier': 0.76498452758524293,\n",
       "  'GaussianProcessClassifier': 0.77045491791426068,\n",
       "  'GradientBoostingClassifier': 0.78285926368657988,\n",
       "  'KNeighbors': 0.76774301973978065,\n",
       "  'LinearSVC': 0.79515075562582138,\n",
       "  'LogisticRegression': 0.79104090951449069,\n",
       "  'Perceptron': 0.67729260055462903,\n",
       "  'RandomForest': 0.77599079688559414,\n",
       "  'RandomForestClassifier': 0.76781808424834275,\n",
       "  'RidgeClassifierCV': 0.79784363060292607,\n",
       "  'SVC': 0.77736078843441025})"
      ]
     },
     "execution_count": 53,
     "metadata": {},
     "output_type": "execute_result"
    }
   ],
   "source": [
    "train_x_eliminated = train_x_num.drop([\"CA\", \"Thal\"], axis=1)\n",
    "pipeline_eliminated = prepare_pipeline(train_x_eliminated, [\"CP\", \"Restecg\",\"Slope\"])\n",
    "train_x_eliminated = pipeline_eliminated.transform(train_x_eliminated)\n",
    "compare_classifiers(train_x_eliminated, train_y), compare_classifiers(train_x_eliminated, y_t_bin)"
   ]
  },
  {
   "cell_type": "code",
   "execution_count": 54,
   "metadata": {
    "scrolled": true
   },
   "outputs": [
    {
     "name": "stderr",
     "output_type": "stream",
     "text": [
      "C:\\Users\\gulme\\Anaconda3\\lib\\site-packages\\sklearn\\linear_model\\stochastic_gradient.py:128: FutureWarning: max_iter and tol parameters have been added in <class 'sklearn.linear_model.perceptron.Perceptron'> in 0.19. If both are left unset, they default to max_iter=5 and tol=None. If tol is not None, max_iter defaults to max_iter=1000. From 0.21, default max_iter will be 1000, and default tol will be 1e-3.\n",
      "  \"and default tol will be 1e-3.\" % type(self), FutureWarning)\n",
      "C:\\Users\\gulme\\Anaconda3\\lib\\site-packages\\sklearn\\linear_model\\stochastic_gradient.py:128: FutureWarning: max_iter and tol parameters have been added in <class 'sklearn.linear_model.perceptron.Perceptron'> in 0.19. If both are left unset, they default to max_iter=5 and tol=None. If tol is not None, max_iter defaults to max_iter=1000. From 0.21, default max_iter will be 1000, and default tol will be 1e-3.\n",
      "  \"and default tol will be 1e-3.\" % type(self), FutureWarning)\n",
      "C:\\Users\\gulme\\Anaconda3\\lib\\site-packages\\sklearn\\linear_model\\stochastic_gradient.py:128: FutureWarning: max_iter and tol parameters have been added in <class 'sklearn.linear_model.perceptron.Perceptron'> in 0.19. If both are left unset, they default to max_iter=5 and tol=None. If tol is not None, max_iter defaults to max_iter=1000. From 0.21, default max_iter will be 1000, and default tol will be 1e-3.\n",
      "  \"and default tol will be 1e-3.\" % type(self), FutureWarning)\n",
      "C:\\Users\\gulme\\Anaconda3\\lib\\site-packages\\sklearn\\linear_model\\stochastic_gradient.py:128: FutureWarning: max_iter and tol parameters have been added in <class 'sklearn.linear_model.perceptron.Perceptron'> in 0.19. If both are left unset, they default to max_iter=5 and tol=None. If tol is not None, max_iter defaults to max_iter=1000. From 0.21, default max_iter will be 1000, and default tol will be 1e-3.\n",
      "  \"and default tol will be 1e-3.\" % type(self), FutureWarning)\n",
      "C:\\Users\\gulme\\Anaconda3\\lib\\site-packages\\sklearn\\linear_model\\stochastic_gradient.py:128: FutureWarning: max_iter and tol parameters have been added in <class 'sklearn.linear_model.perceptron.Perceptron'> in 0.19. If both are left unset, they default to max_iter=5 and tol=None. If tol is not None, max_iter defaults to max_iter=1000. From 0.21, default max_iter will be 1000, and default tol will be 1e-3.\n",
      "  \"and default tol will be 1e-3.\" % type(self), FutureWarning)\n",
      "C:\\Users\\gulme\\Anaconda3\\lib\\site-packages\\sklearn\\linear_model\\stochastic_gradient.py:128: FutureWarning: max_iter and tol parameters have been added in <class 'sklearn.linear_model.perceptron.Perceptron'> in 0.19. If both are left unset, they default to max_iter=5 and tol=None. If tol is not None, max_iter defaults to max_iter=1000. From 0.21, default max_iter will be 1000, and default tol will be 1e-3.\n",
      "  \"and default tol will be 1e-3.\" % type(self), FutureWarning)\n",
      "C:\\Users\\gulme\\Anaconda3\\lib\\site-packages\\sklearn\\linear_model\\stochastic_gradient.py:128: FutureWarning: max_iter and tol parameters have been added in <class 'sklearn.linear_model.perceptron.Perceptron'> in 0.19. If both are left unset, they default to max_iter=5 and tol=None. If tol is not None, max_iter defaults to max_iter=1000. From 0.21, default max_iter will be 1000, and default tol will be 1e-3.\n",
      "  \"and default tol will be 1e-3.\" % type(self), FutureWarning)\n",
      "C:\\Users\\gulme\\Anaconda3\\lib\\site-packages\\sklearn\\linear_model\\stochastic_gradient.py:128: FutureWarning: max_iter and tol parameters have been added in <class 'sklearn.linear_model.perceptron.Perceptron'> in 0.19. If both are left unset, they default to max_iter=5 and tol=None. If tol is not None, max_iter defaults to max_iter=1000. From 0.21, default max_iter will be 1000, and default tol will be 1e-3.\n",
      "  \"and default tol will be 1e-3.\" % type(self), FutureWarning)\n",
      "C:\\Users\\gulme\\Anaconda3\\lib\\site-packages\\sklearn\\linear_model\\stochastic_gradient.py:128: FutureWarning: max_iter and tol parameters have been added in <class 'sklearn.linear_model.perceptron.Perceptron'> in 0.19. If both are left unset, they default to max_iter=5 and tol=None. If tol is not None, max_iter defaults to max_iter=1000. From 0.21, default max_iter will be 1000, and default tol will be 1e-3.\n",
      "  \"and default tol will be 1e-3.\" % type(self), FutureWarning)\n",
      "C:\\Users\\gulme\\Anaconda3\\lib\\site-packages\\sklearn\\linear_model\\stochastic_gradient.py:128: FutureWarning: max_iter and tol parameters have been added in <class 'sklearn.linear_model.perceptron.Perceptron'> in 0.19. If both are left unset, they default to max_iter=5 and tol=None. If tol is not None, max_iter defaults to max_iter=1000. From 0.21, default max_iter will be 1000, and default tol will be 1e-3.\n",
      "  \"and default tol will be 1e-3.\" % type(self), FutureWarning)\n"
     ]
    },
    {
     "data": {
      "text/plain": [
       "({'AVERAGE': 0.54439547922306553,\n",
       "  'DecisionTree': 0.48381250356619815,\n",
       "  'ExtraTreesClassifier': 0.54646531119437525,\n",
       "  'GaussianProcessClassifier': 0.52730471498944398,\n",
       "  'GradientBoostingClassifier': 0.55063234240574144,\n",
       "  'KNeighbors': 0.52995226049413247,\n",
       "  'LinearSVC': 0.56428450970322896,\n",
       "  'LogisticRegression': 0.57113471670121929,\n",
       "  'Perceptron': 0.47083762862087986,\n",
       "  'RandomForest': 0.57646505759806244,\n",
       "  'RandomForestClassifier': 0.5518806702550545,\n",
       "  'RidgeClassifierCV': 0.5711439095675549,\n",
       "  'SVC': 0.58883212558089404},\n",
       " {'AVERAGE': 0.76937678141639265,\n",
       "  'DecisionTree': 0.71184875272735459,\n",
       "  'ExtraTreesClassifier': 0.75548918858993763,\n",
       "  'GaussianProcessClassifier': 0.75820095822930023,\n",
       "  'GradientBoostingClassifier': 0.76926314030572063,\n",
       "  'KNeighbors': 0.77188146491473297,\n",
       "  'LinearSVC': 0.8060164717752949,\n",
       "  'LogisticRegression': 0.80466537488873668,\n",
       "  'Perceptron': 0.73195704356376479,\n",
       "  'RandomForest': 0.76647669176314825,\n",
       "  'RandomForestClassifier': 0.75280550387372702,\n",
       "  'RidgeClassifierCV': 0.81013563668263733,\n",
       "  'SVC': 0.79378114968235758})"
      ]
     },
     "execution_count": 54,
     "metadata": {},
     "output_type": "execute_result"
    }
   ],
   "source": [
    "train_x_eliminated = train_x_num.drop([\"Sex\", \"Fbs\", \"CA\"], axis=1)\n",
    "pipeline_eliminated = prepare_pipeline(train_x_eliminated, [\"CP\", \"Restecg\", \"Thal\",\"Slope\"])\n",
    "train_x_eliminated = pipeline_eliminated.transform(train_x_eliminated)\n",
    "compare_classifiers(train_x_eliminated, train_y), compare_classifiers(train_x_eliminated, y_t_bin)"
   ]
  },
  {
   "cell_type": "code",
   "execution_count": 55,
   "metadata": {
    "scrolled": true
   },
   "outputs": [
    {
     "name": "stderr",
     "output_type": "stream",
     "text": [
      "C:\\Users\\gulme\\Anaconda3\\lib\\site-packages\\sklearn\\linear_model\\stochastic_gradient.py:128: FutureWarning: max_iter and tol parameters have been added in <class 'sklearn.linear_model.perceptron.Perceptron'> in 0.19. If both are left unset, they default to max_iter=5 and tol=None. If tol is not None, max_iter defaults to max_iter=1000. From 0.21, default max_iter will be 1000, and default tol will be 1e-3.\n",
      "  \"and default tol will be 1e-3.\" % type(self), FutureWarning)\n",
      "C:\\Users\\gulme\\Anaconda3\\lib\\site-packages\\sklearn\\linear_model\\stochastic_gradient.py:128: FutureWarning: max_iter and tol parameters have been added in <class 'sklearn.linear_model.perceptron.Perceptron'> in 0.19. If both are left unset, they default to max_iter=5 and tol=None. If tol is not None, max_iter defaults to max_iter=1000. From 0.21, default max_iter will be 1000, and default tol will be 1e-3.\n",
      "  \"and default tol will be 1e-3.\" % type(self), FutureWarning)\n",
      "C:\\Users\\gulme\\Anaconda3\\lib\\site-packages\\sklearn\\linear_model\\stochastic_gradient.py:128: FutureWarning: max_iter and tol parameters have been added in <class 'sklearn.linear_model.perceptron.Perceptron'> in 0.19. If both are left unset, they default to max_iter=5 and tol=None. If tol is not None, max_iter defaults to max_iter=1000. From 0.21, default max_iter will be 1000, and default tol will be 1e-3.\n",
      "  \"and default tol will be 1e-3.\" % type(self), FutureWarning)\n",
      "C:\\Users\\gulme\\Anaconda3\\lib\\site-packages\\sklearn\\linear_model\\stochastic_gradient.py:128: FutureWarning: max_iter and tol parameters have been added in <class 'sklearn.linear_model.perceptron.Perceptron'> in 0.19. If both are left unset, they default to max_iter=5 and tol=None. If tol is not None, max_iter defaults to max_iter=1000. From 0.21, default max_iter will be 1000, and default tol will be 1e-3.\n",
      "  \"and default tol will be 1e-3.\" % type(self), FutureWarning)\n",
      "C:\\Users\\gulme\\Anaconda3\\lib\\site-packages\\sklearn\\linear_model\\stochastic_gradient.py:128: FutureWarning: max_iter and tol parameters have been added in <class 'sklearn.linear_model.perceptron.Perceptron'> in 0.19. If both are left unset, they default to max_iter=5 and tol=None. If tol is not None, max_iter defaults to max_iter=1000. From 0.21, default max_iter will be 1000, and default tol will be 1e-3.\n",
      "  \"and default tol will be 1e-3.\" % type(self), FutureWarning)\n",
      "C:\\Users\\gulme\\Anaconda3\\lib\\site-packages\\sklearn\\linear_model\\stochastic_gradient.py:128: FutureWarning: max_iter and tol parameters have been added in <class 'sklearn.linear_model.perceptron.Perceptron'> in 0.19. If both are left unset, they default to max_iter=5 and tol=None. If tol is not None, max_iter defaults to max_iter=1000. From 0.21, default max_iter will be 1000, and default tol will be 1e-3.\n",
      "  \"and default tol will be 1e-3.\" % type(self), FutureWarning)\n",
      "C:\\Users\\gulme\\Anaconda3\\lib\\site-packages\\sklearn\\linear_model\\stochastic_gradient.py:128: FutureWarning: max_iter and tol parameters have been added in <class 'sklearn.linear_model.perceptron.Perceptron'> in 0.19. If both are left unset, they default to max_iter=5 and tol=None. If tol is not None, max_iter defaults to max_iter=1000. From 0.21, default max_iter will be 1000, and default tol will be 1e-3.\n",
      "  \"and default tol will be 1e-3.\" % type(self), FutureWarning)\n",
      "C:\\Users\\gulme\\Anaconda3\\lib\\site-packages\\sklearn\\linear_model\\stochastic_gradient.py:128: FutureWarning: max_iter and tol parameters have been added in <class 'sklearn.linear_model.perceptron.Perceptron'> in 0.19. If both are left unset, they default to max_iter=5 and tol=None. If tol is not None, max_iter defaults to max_iter=1000. From 0.21, default max_iter will be 1000, and default tol will be 1e-3.\n",
      "  \"and default tol will be 1e-3.\" % type(self), FutureWarning)\n",
      "C:\\Users\\gulme\\Anaconda3\\lib\\site-packages\\sklearn\\linear_model\\stochastic_gradient.py:128: FutureWarning: max_iter and tol parameters have been added in <class 'sklearn.linear_model.perceptron.Perceptron'> in 0.19. If both are left unset, they default to max_iter=5 and tol=None. If tol is not None, max_iter defaults to max_iter=1000. From 0.21, default max_iter will be 1000, and default tol will be 1e-3.\n",
      "  \"and default tol will be 1e-3.\" % type(self), FutureWarning)\n",
      "C:\\Users\\gulme\\Anaconda3\\lib\\site-packages\\sklearn\\linear_model\\stochastic_gradient.py:128: FutureWarning: max_iter and tol parameters have been added in <class 'sklearn.linear_model.perceptron.Perceptron'> in 0.19. If both are left unset, they default to max_iter=5 and tol=None. If tol is not None, max_iter defaults to max_iter=1000. From 0.21, default max_iter will be 1000, and default tol will be 1e-3.\n",
      "  \"and default tol will be 1e-3.\" % type(self), FutureWarning)\n"
     ]
    },
    {
     "data": {
      "text/plain": [
       "({'AVERAGE': 0.54866303495613844,\n",
       "  'DecisionTree': 0.50028916319556715,\n",
       "  'ExtraTreesClassifier': 0.56421863806100259,\n",
       "  'GaussianProcessClassifier': 0.543631625996158,\n",
       "  'GradientBoostingClassifier': 0.55758481211683175,\n",
       "  'KNeighbors': 0.5545646068306167,\n",
       "  'LinearSVC': 0.56832899049647811,\n",
       "  'LogisticRegression': 0.57256075216666347,\n",
       "  'Perceptron': 0.46698924117643337,\n",
       "  'RandomForest': 0.54658748121802314,\n",
       "  'RandomForestClassifier': 0.54517139940785264,\n",
       "  'RidgeClassifierCV': 0.5724669215309609,\n",
       "  'SVC': 0.59156278727707301},\n",
       " {'AVERAGE': 0.77606762339639046,\n",
       "  'DecisionTree': 0.72816570747335307,\n",
       "  'ExtraTreesClassifier': 0.75818219210215976,\n",
       "  'GaussianProcessClassifier': 0.76357751792261541,\n",
       "  'GradientBoostingClassifier': 0.78701583231308581,\n",
       "  'KNeighbors': 0.7855056732187442,\n",
       "  'LinearSVC': 0.8060164717752949,\n",
       "  'LogisticRegression': 0.79649266225148541,\n",
       "  'Perceptron': 0.72110983647119686,\n",
       "  'RandomForest': 0.77593475557440739,\n",
       "  'RandomForestClassifier': 0.77734227937750444,\n",
       "  'RidgeClassifierCV': 0.80603523790243536,\n",
       "  'SVC': 0.80743331437440347})"
      ]
     },
     "execution_count": 55,
     "metadata": {},
     "output_type": "execute_result"
    }
   ],
   "source": [
    "train_x_eliminated = train_x_num.drop([\"Sex\", \"CA\"], axis=1)\n",
    "pipeline_eliminated = prepare_pipeline(train_x_eliminated, [\"CP\", \"Restecg\", \"Thal\", \"Slope\"])\n",
    "train_x_eliminated = pipeline_eliminated.transform(train_x_eliminated)\n",
    "compare_classifiers(train_x_eliminated, train_y), compare_classifiers(train_x_eliminated, y_t_bin)"
   ]
  },
  {
   "cell_type": "code",
   "execution_count": 56,
   "metadata": {
    "scrolled": true
   },
   "outputs": [
    {
     "name": "stderr",
     "output_type": "stream",
     "text": [
      "C:\\Users\\gulme\\Anaconda3\\lib\\site-packages\\sklearn\\linear_model\\stochastic_gradient.py:128: FutureWarning: max_iter and tol parameters have been added in <class 'sklearn.linear_model.perceptron.Perceptron'> in 0.19. If both are left unset, they default to max_iter=5 and tol=None. If tol is not None, max_iter defaults to max_iter=1000. From 0.21, default max_iter will be 1000, and default tol will be 1e-3.\n",
      "  \"and default tol will be 1e-3.\" % type(self), FutureWarning)\n",
      "C:\\Users\\gulme\\Anaconda3\\lib\\site-packages\\sklearn\\linear_model\\stochastic_gradient.py:128: FutureWarning: max_iter and tol parameters have been added in <class 'sklearn.linear_model.perceptron.Perceptron'> in 0.19. If both are left unset, they default to max_iter=5 and tol=None. If tol is not None, max_iter defaults to max_iter=1000. From 0.21, default max_iter will be 1000, and default tol will be 1e-3.\n",
      "  \"and default tol will be 1e-3.\" % type(self), FutureWarning)\n",
      "C:\\Users\\gulme\\Anaconda3\\lib\\site-packages\\sklearn\\linear_model\\stochastic_gradient.py:128: FutureWarning: max_iter and tol parameters have been added in <class 'sklearn.linear_model.perceptron.Perceptron'> in 0.19. If both are left unset, they default to max_iter=5 and tol=None. If tol is not None, max_iter defaults to max_iter=1000. From 0.21, default max_iter will be 1000, and default tol will be 1e-3.\n",
      "  \"and default tol will be 1e-3.\" % type(self), FutureWarning)\n",
      "C:\\Users\\gulme\\Anaconda3\\lib\\site-packages\\sklearn\\linear_model\\stochastic_gradient.py:128: FutureWarning: max_iter and tol parameters have been added in <class 'sklearn.linear_model.perceptron.Perceptron'> in 0.19. If both are left unset, they default to max_iter=5 and tol=None. If tol is not None, max_iter defaults to max_iter=1000. From 0.21, default max_iter will be 1000, and default tol will be 1e-3.\n",
      "  \"and default tol will be 1e-3.\" % type(self), FutureWarning)\n",
      "C:\\Users\\gulme\\Anaconda3\\lib\\site-packages\\sklearn\\linear_model\\stochastic_gradient.py:128: FutureWarning: max_iter and tol parameters have been added in <class 'sklearn.linear_model.perceptron.Perceptron'> in 0.19. If both are left unset, they default to max_iter=5 and tol=None. If tol is not None, max_iter defaults to max_iter=1000. From 0.21, default max_iter will be 1000, and default tol will be 1e-3.\n",
      "  \"and default tol will be 1e-3.\" % type(self), FutureWarning)\n",
      "C:\\Users\\gulme\\Anaconda3\\lib\\site-packages\\sklearn\\linear_model\\stochastic_gradient.py:128: FutureWarning: max_iter and tol parameters have been added in <class 'sklearn.linear_model.perceptron.Perceptron'> in 0.19. If both are left unset, they default to max_iter=5 and tol=None. If tol is not None, max_iter defaults to max_iter=1000. From 0.21, default max_iter will be 1000, and default tol will be 1e-3.\n",
      "  \"and default tol will be 1e-3.\" % type(self), FutureWarning)\n",
      "C:\\Users\\gulme\\Anaconda3\\lib\\site-packages\\sklearn\\linear_model\\stochastic_gradient.py:128: FutureWarning: max_iter and tol parameters have been added in <class 'sklearn.linear_model.perceptron.Perceptron'> in 0.19. If both are left unset, they default to max_iter=5 and tol=None. If tol is not None, max_iter defaults to max_iter=1000. From 0.21, default max_iter will be 1000, and default tol will be 1e-3.\n",
      "  \"and default tol will be 1e-3.\" % type(self), FutureWarning)\n",
      "C:\\Users\\gulme\\Anaconda3\\lib\\site-packages\\sklearn\\linear_model\\stochastic_gradient.py:128: FutureWarning: max_iter and tol parameters have been added in <class 'sklearn.linear_model.perceptron.Perceptron'> in 0.19. If both are left unset, they default to max_iter=5 and tol=None. If tol is not None, max_iter defaults to max_iter=1000. From 0.21, default max_iter will be 1000, and default tol will be 1e-3.\n",
      "  \"and default tol will be 1e-3.\" % type(self), FutureWarning)\n",
      "C:\\Users\\gulme\\Anaconda3\\lib\\site-packages\\sklearn\\linear_model\\stochastic_gradient.py:128: FutureWarning: max_iter and tol parameters have been added in <class 'sklearn.linear_model.perceptron.Perceptron'> in 0.19. If both are left unset, they default to max_iter=5 and tol=None. If tol is not None, max_iter defaults to max_iter=1000. From 0.21, default max_iter will be 1000, and default tol will be 1e-3.\n",
      "  \"and default tol will be 1e-3.\" % type(self), FutureWarning)\n",
      "C:\\Users\\gulme\\Anaconda3\\lib\\site-packages\\sklearn\\linear_model\\stochastic_gradient.py:128: FutureWarning: max_iter and tol parameters have been added in <class 'sklearn.linear_model.perceptron.Perceptron'> in 0.19. If both are left unset, they default to max_iter=5 and tol=None. If tol is not None, max_iter defaults to max_iter=1000. From 0.21, default max_iter will be 1000, and default tol will be 1e-3.\n",
      "  \"and default tol will be 1e-3.\" % type(self), FutureWarning)\n"
     ]
    },
    {
     "data": {
      "text/plain": [
       "({'AVERAGE': 0.54452280570507172,\n",
       "  'DecisionTree': 0.49751215677324057,\n",
       "  'ExtraTreesClassifier': 0.54237562685838547,\n",
       "  'GaussianProcessClassifier': 0.5314709854118721,\n",
       "  'GradientBoostingClassifier': 0.55203003848324039,\n",
       "  'KNeighbors': 0.53817182418167642,\n",
       "  'LinearSVC': 0.56832899049647811,\n",
       "  'LogisticRegression': 0.56970830084130575,\n",
       "  'Perceptron': 0.46677324051708285,\n",
       "  'RandomForest': 0.56285847423778446,\n",
       "  'RandomForestClassifier': 0.55740748489516956,\n",
       "  'RidgeClassifierCV': 0.57106884505899269,\n",
       "  'SVC': 0.57656770070563179},\n",
       " {'AVERAGE': 0.77277573728278925,\n",
       "  'DecisionTree': 0.72547231835577886,\n",
       "  'ExtraTreesClassifier': 0.74999071333776779,\n",
       "  'GaussianProcessClassifier': 0.77321379567415049,\n",
       "  'GradientBoostingClassifier': 0.78430406267372332,\n",
       "  'KNeighbors': 0.77455583083493207,\n",
       "  'LinearSVC': 0.81835507183506384,\n",
       "  'LogisticRegression': 0.8156527495268302,\n",
       "  'Perceptron': 0.68537109695082576,\n",
       "  'RandomForest': 0.77327941285158375,\n",
       "  'RandomForestClassifier': 0.76507810115071062,\n",
       "  'RidgeClassifierCV': 0.81288468150604598,\n",
       "  'SVC': 0.79515101269605615})"
      ]
     },
     "execution_count": 56,
     "metadata": {},
     "output_type": "execute_result"
    }
   ],
   "source": [
    "train_x_eliminated = train_x_num.drop([\"Fbs\", \"CA\"], axis=1)\n",
    "pipeline_eliminated = prepare_pipeline(train_x_eliminated, [\"CP\", \"Restecg\", \"Thal\", \"Slope\"])\n",
    "train_x_eliminated = pipeline_eliminated.transform(train_x_eliminated)\n",
    "compare_classifiers(train_x_eliminated, train_y), compare_classifiers(train_x_eliminated, y_t_bin)"
   ]
  },
  {
   "cell_type": "code",
   "execution_count": 57,
   "metadata": {},
   "outputs": [
    {
     "data": {
      "text/plain": [
       "'\\nIt is logical to keep thal and eliminate CA column. \\nCA is very insufficiant for training and only 250 out of 800 instances have it.\\nThal also insufficiant actually but the feature numbers are low so if we drop that feature too, \\nwe will have an overfit situation.\\nSo lets keep Thal and drop CA.\\n'"
      ]
     },
     "execution_count": 57,
     "metadata": {},
     "output_type": "execute_result"
    }
   ],
   "source": [
    "\"\"\"\n",
    "It is logical to keep thal and eliminate CA column. \n",
    "CA is very insufficiant for training and only 250 out of 800 instances have it.\n",
    "Thal also insufficiant actually but the feature numbers are low so if we drop that feature too, \n",
    "we will have an overfit situation.\n",
    "So lets keep Thal and drop CA.\n",
    "\"\"\""
   ]
  },
  {
   "cell_type": "code",
   "execution_count": 60,
   "metadata": {
    "collapsed": true
   },
   "outputs": [],
   "source": [
    "train_x_final = train_x.drop([\"CA\"], axis=1)\n",
    "pipeline_data = prepare_pipeline(train_x_final, [\"CP\", \"Restecg\", \"Thal\", \"Slope\"])\n",
    "train_x_final = pipeline_data.transform(train_x_final)\n",
    "train_y_final = y_t_bin"
   ]
  },
  {
   "cell_type": "code",
   "execution_count": 59,
   "metadata": {},
   "outputs": [
    {
     "data": {
      "text/plain": [
       "\"\\nLets remember our dataset result:\\n 'AVERAGE': 0.78085288941588293,\\n 'DecisionTree': 0.74319692543999183,\\n 'ExtraTreesClassifier': 0.76637354233143429,\\n 'GaussianProcessClassifier': 0.7717687396167725,\\n 'GradientBoostingClassifier': 0.7842947438777117,\\n 'KNeighbors': 0.78958743440692281,\\n 'LinearSVC': 0.80877509246495016,\\n 'LogisticRegression': 0.80467456514963109,\\n 'Perceptron': 0.70188451762377135,\\n 'RandomForest': 0.78965228037365165,\\n 'RandomForestClassifier': 0.79652087570975483,\\n 'RidgeClassifierCV': 0.80878441126096168,\\n 'SVC': 0.80472154473504087\\n \\nNote that, the most successful classifiers so far are:\\n * sklearn.svm.SVC\\n * sklearn.linear_model.RidgeClassifier\\n * sklearn.linear_model.LogisticRegression\\n * sklearn.svm.LinearSVC\\nThose algorithms are above of 80% accuracy.\\n\\nI will proceed over them. \\n\""
      ]
     },
     "execution_count": 59,
     "metadata": {},
     "output_type": "execute_result"
    }
   ],
   "source": [
    "\"\"\"\n",
    "Lets remember our dataset result:\n",
    " 'AVERAGE': 0.78085288941588293,\n",
    " 'DecisionTree': 0.74319692543999183,\n",
    " 'ExtraTreesClassifier': 0.76637354233143429,\n",
    " 'GaussianProcessClassifier': 0.7717687396167725,\n",
    " 'GradientBoostingClassifier': 0.7842947438777117,\n",
    " 'KNeighbors': 0.78958743440692281,\n",
    " 'LinearSVC': 0.80877509246495016,\n",
    " 'LogisticRegression': 0.80467456514963109,\n",
    " 'Perceptron': 0.70188451762377135,\n",
    " 'RandomForest': 0.78965228037365165,\n",
    " 'RandomForestClassifier': 0.79652087570975483,\n",
    " 'RidgeClassifierCV': 0.80878441126096168,\n",
    " 'SVC': 0.80472154473504087\n",
    " \n",
    "Note that, the most successful classifiers so far are:\n",
    " * sklearn.svm.SVC\n",
    " * sklearn.linear_model.RidgeClassifier\n",
    " * sklearn.linear_model.LogisticRegression\n",
    " * sklearn.svm.LinearSVC\n",
    " * sklearn.ensemble.RandomForestClassifier\n",
    "Those algorithms are above of 80% accuracy.\n",
    "\n",
    "I will proceed over them. \n",
    "\"\"\""
   ]
  },
  {
   "cell_type": "code",
   "execution_count": null,
   "metadata": {
    "collapsed": true
   },
   "outputs": [],
   "source": [
    "\"\"\"\n",
    "I will fine tune that models to find best parameters of models.\n",
    "\"\"\""
   ]
  },
  {
   "cell_type": "code",
   "execution_count": 60,
   "metadata": {},
   "outputs": [
    {
     "data": {
      "text/plain": [
       "'\\nsklearn.svm.SVC\\n'"
      ]
     },
     "execution_count": 60,
     "metadata": {},
     "output_type": "execute_result"
    }
   ],
   "source": [
    "\"\"\"\n",
    "sklearn.svm.SVC\n",
    "\"\"\""
   ]
  },
  {
   "cell_type": "code",
   "execution_count": 65,
   "metadata": {
    "collapsed": true
   },
   "outputs": [],
   "source": [
    "from sklearn.model_selection import GridSearchCV\n",
    "Models = {}"
   ]
  },
  {
   "cell_type": "code",
   "execution_count": 62,
   "metadata": {},
   "outputs": [
    {
     "data": {
      "text/plain": [
       "0.80737704918032782"
      ]
     },
     "execution_count": 62,
     "metadata": {},
     "output_type": "execute_result"
    }
   ],
   "source": [
    "\"\"\"\n",
    "Those grid search processes normally takes long time. \n",
    "But my dataset and feature numbers are tiny so that will not be a problem\n",
    "\"\"\"\n",
    "\n",
    "np.random.seed(0)\n",
    "param_grid = [\n",
    "    {\n",
    "        \"kernel\": [\"rbf\", \"linear\", \"poly\", \"sigmoid\"],\n",
    "        \"C\": np.arange(0.5, 1.6, 0.1),\n",
    "        \"degree\": np.arange(0,11, 5),\n",
    "        \"shrinking\": [False, True],\n",
    "    }\n",
    "]\n",
    "\n",
    "from sklearn.svm import SVC\n",
    "svc = SVC()\n",
    "\n",
    "SVCfine = GridSearchCV(svc, param_grid, cv=5, scoring=\"accuracy\")\n",
    "SVCfine.fit(train_x_final, train_y_final)\n",
    "SVCfine.best_score_\n",
    "Models[\"SVCFined\"] = SVCfine.best_estimator_"
   ]
  },
  {
   "cell_type": "code",
   "execution_count": 66,
   "metadata": {},
   "outputs": [
    {
     "data": {
      "text/plain": [
       "'\\nsklearn.linear_model.RidgeClassifier\\n'"
      ]
     },
     "execution_count": 66,
     "metadata": {},
     "output_type": "execute_result"
    }
   ],
   "source": [
    "\"\"\"\n",
    "sklearn.linear_model.RidgeClassifier\n",
    "\"\"\""
   ]
  },
  {
   "cell_type": "code",
   "execution_count": 67,
   "metadata": {},
   "outputs": [],
   "source": [
    "np.random.seed(0)\n",
    "param_grid = [\n",
    "    {\n",
    "        \"alpha\": np.arange(10,0,-0.1),\n",
    "        \"fit_intercept\": [True, False],\n",
    "        \"copy_X\" : [True],\n",
    "        \"tol\": np.arange(0.1, 2, 0.1),\n",
    "        \"solver\": [\"svd\", \"cholesky\", \"lsqr\", \"sparse_cg\", \"sag\", \"saga\"]\n",
    "        \n",
    "    }\n",
    "]\n",
    "\n",
    "from sklearn.linear_model import RidgeClassifier\n",
    "rc = RidgeClassifier()\n",
    "\n",
    "RCfine = GridSearchCV(rc, param_grid, cv=5, scoring=\"accuracy\")\n",
    "RCfine.fit(train_x_final, train_y_final)\n",
    "Models[\"RidgeFined\"] = RCfine.best_estimator_\n",
    "RCfine.best_score_"
   ]
  },
  {
   "cell_type": "code",
   "execution_count": 68,
   "metadata": {},
   "outputs": [
    {
     "data": {
      "text/plain": [
       "{'alpha': 4.5000000000000195,\n",
       " 'copy_X': True,\n",
       " 'fit_intercept': True,\n",
       " 'solver': 'saga',\n",
       " 'tol': 1.3000000000000003}"
      ]
     },
     "execution_count": 68,
     "metadata": {},
     "output_type": "execute_result"
    }
   ],
   "source": [
    "RCfine.best_params_"
   ]
  },
  {
   "cell_type": "code",
   "execution_count": 69,
   "metadata": {
    "scrolled": true
   },
   "outputs": [
    {
     "data": {
      "text/plain": [
       "0.81830601092896171"
      ]
     },
     "execution_count": 69,
     "metadata": {},
     "output_type": "execute_result"
    }
   ],
   "source": [
    "np.random.seed(0)\n",
    "param_grid = [\n",
    "    {\n",
    "        \"penalty\": [\"l1\"],\n",
    "        \"C\": np.arange(2,0,-0.1),\n",
    "        \"fit_intercept\": [True, False],\n",
    "        \"tol\": np.arange(0.1, 2, 0.1),\n",
    "        \"solver\": [\"liblinear\", \"saga\"]        \n",
    "    },\n",
    "    {\n",
    "        \"penalty\": [\"l2\"],\n",
    "        \"C\": np.arange(2,0,-0.1),\n",
    "        \"fit_intercept\": [True, False],\n",
    "        \"tol\": np.arange(0.1, 2, 0.1),\n",
    "        \"solver\": [\"newton-cg\", \"lbfgs\", \"sag\"]\n",
    "    }\n",
    "]\n",
    "\n",
    "from sklearn.linear_model import LogisticRegression\n",
    "lr = LogisticRegression()\n",
    "\n",
    "LRfine = GridSearchCV(lr, param_grid, cv=5, scoring=\"accuracy\")\n",
    "LRfine.fit(train_x_final, train_y_final)\n",
    "Models[\"LogRegFined\"] = LRfine.best_estimator_\n",
    "LRfine.best_score_"
   ]
  },
  {
   "cell_type": "code",
   "execution_count": 70,
   "metadata": {},
   "outputs": [
    {
     "data": {
      "text/plain": [
       "{'C': 0.69999999999999885,\n",
       " 'fit_intercept': True,\n",
       " 'penalty': 'l1',\n",
       " 'solver': 'saga',\n",
       " 'tol': 0.5}"
      ]
     },
     "execution_count": 70,
     "metadata": {},
     "output_type": "execute_result"
    }
   ],
   "source": [
    "LRfine.best_params_"
   ]
  },
  {
   "cell_type": "code",
   "execution_count": 71,
   "metadata": {},
   "outputs": [
    {
     "data": {
      "text/plain": [
       "0.82103825136612019"
      ]
     },
     "execution_count": 71,
     "metadata": {},
     "output_type": "execute_result"
    }
   ],
   "source": [
    "np.random.seed(0)\n",
    "param_grid = [\n",
    "    {\n",
    "        \"n_estimators\": np.arange(50,0,-5),\n",
    "        \"criterion\": [\"gini\", \"entropy\"],\n",
    "        \"max_features\": [\"auto\", \"sqrt\", \"log2\"],\n",
    "        \"max_depth\": [1,2,3,4,5,6,7,8,9],\n",
    "        \"min_samples_split\": np.arange(0.1, 1, 0.2),\n",
    "    }\n",
    "]\n",
    "\n",
    "from sklearn.ensemble import RandomForestClassifier\n",
    "rfc = RandomForestClassifier()\n",
    "\n",
    "RFCfine = GridSearchCV(rfc, param_grid, cv=5, scoring=\"accuracy\")\n",
    "RFCfine.fit(train_x_final, train_y_final)\n",
    "Models[\"RanForestFined\"] = RFCfine.best_estimator_\n",
    "RFCfine.best_score_"
   ]
  },
  {
   "cell_type": "code",
   "execution_count": 72,
   "metadata": {},
   "outputs": [
    {
     "data": {
      "text/plain": [
       "{'criterion': 'gini',\n",
       " 'max_depth': 8,\n",
       " 'max_features': 'log2',\n",
       " 'min_samples_split': 0.10000000000000001,\n",
       " 'n_estimators': 30}"
      ]
     },
     "execution_count": 72,
     "metadata": {},
     "output_type": "execute_result"
    }
   ],
   "source": [
    "RFCfine.best_params_"
   ]
  },
  {
   "cell_type": "code",
   "execution_count": 73,
   "metadata": {},
   "outputs": [
    {
     "data": {
      "text/plain": [
       "array([ 0.00730925,  0.0604792 ,  0.01319483,  0.24725548,  0.00387021,\n",
       "        0.0074402 ,  0.00247955,  0.00858526,  0.0022088 ,  0.        ,\n",
       "        0.0491362 ,  0.01330313,  0.03764696,  0.07804941,  0.02792065,\n",
       "        0.02509003,  0.07386802,  0.00033975,  0.09197545,  0.1482815 ,\n",
       "        0.10156614])"
      ]
     },
     "execution_count": 73,
     "metadata": {},
     "output_type": "execute_result"
    }
   ],
   "source": [
    "RFCfine.best_estimator_.feature_importances_\n"
   ]
  },
  {
   "cell_type": "code",
   "execution_count": 74,
   "metadata": {},
   "outputs": [
    {
     "data": {
      "text/plain": [
       "0.82240437158469948"
      ]
     },
     "execution_count": 74,
     "metadata": {},
     "output_type": "execute_result"
    }
   ],
   "source": [
    "np.random.seed(0)\n",
    "param_grid = [\n",
    "    {\n",
    "        \"penalty\": [\"l2\"],\n",
    "        \"C\": np.arange(3,0,-0.1),\n",
    "        \"fit_intercept\": [True, False],\n",
    "        \"loss\": [\"hinge\", \"squared_hinge\"],\n",
    "        \"tol\": np.arange(0.1, 2, 0.1),\n",
    "    }\n",
    "]\n",
    "\n",
    "from sklearn.svm import LinearSVC\n",
    "lsvc = LinearSVC()\n",
    "\n",
    "LSVCfine = GridSearchCV(lsvc, param_grid, cv=5, scoring=\"accuracy\")\n",
    "LSVCfine.fit(train_x_final, train_y_final)\n",
    "Models[\"LinearSVCFined\"] = LSVCfine.best_estimator_\n",
    "LSVCfine.best_score_"
   ]
  },
  {
   "cell_type": "code",
   "execution_count": 75,
   "metadata": {},
   "outputs": [
    {
     "data": {
      "text/plain": [
       "'\\nIn last step of model tuning, I will try to ensemble my best models. \\nIt may create a better model.\\n'"
      ]
     },
     "execution_count": 75,
     "metadata": {},
     "output_type": "execute_result"
    }
   ],
   "source": [
    "\"\"\"\n",
    "In last step of model tuning, I will try to ensemble my best models. \n",
    "It may create a better model.\n",
    "\"\"\""
   ]
  },
  {
   "cell_type": "code",
   "execution_count": 78,
   "metadata": {},
   "outputs": [],
   "source": [
    "from sklearn.ensemble import VotingClassifier, AdaBoostClassifier\n",
    "from sklearn.metrics import accuracy_score\n",
    "from sklearn.model_selection import cross_val_score as tuning\n",
    "from sklearn.model_selection import GridSearchCV\n",
    "\n",
    "np.random.seed(0)\n",
    "voteSoft = VotingClassifier(\n",
    "        estimators=[(\"svc\", SVCfine.best_estimator_.set_params(probability=True)),(\"lr\", LRfine.best_estimator_)],\n",
    "        voting = \"soft\")\n",
    "\n",
    "\n",
    "voteHard = VotingClassifier(\n",
    "    estimators = [(\"lsvc\", LSVCfine.best_estimator_), (\"rc\", RCfine.best_estimator_)],\n",
    "    voting = \"hard\"\n",
    ")\n",
    "\n",
    "\n",
    "voteBest3 = VotingClassifier(estimators=[\n",
    "    (\"lr\", LRfine.best_estimator_),\n",
    "    (\"lsvc\", LSVCfine.best_estimator_), \n",
    "    (\"rc\", RCfine.best_estimator_)],\n",
    "    voting=\"hard\"\n",
    ")\n"
   ]
  },
  {
   "cell_type": "code",
   "execution_count": 79,
   "metadata": {},
   "outputs": [
    {
     "data": {
      "text/plain": [
       "0.80884070964238308"
      ]
     },
     "execution_count": 79,
     "metadata": {},
     "output_type": "execute_result"
    }
   ],
   "source": [
    "tuning(voteSoft, train_x_final, train_y_final, scoring=\"accuracy\", cv = 5).mean()"
   ]
  },
  {
   "cell_type": "code",
   "execution_count": 80,
   "metadata": {},
   "outputs": [
    {
     "data": {
      "text/plain": [
       "0.79238281614015471"
      ]
     },
     "execution_count": 80,
     "metadata": {},
     "output_type": "execute_result"
    }
   ],
   "source": [
    "tuning(voteHard, train_x_final, train_y_final, scoring=\"accuracy\", cv = 5).mean()"
   ]
  },
  {
   "cell_type": "code",
   "execution_count": 81,
   "metadata": {},
   "outputs": [
    {
     "data": {
      "text/plain": [
       "0.80603510936731804"
      ]
     },
     "execution_count": 81,
     "metadata": {},
     "output_type": "execute_result"
    }
   ],
   "source": [
    "tuning(voteBest3, train_x_final, train_y_final, scoring=\"accuracy\", cv = 5).mean()"
   ]
  },
  {
   "cell_type": "code",
   "execution_count": 102,
   "metadata": {},
   "outputs": [],
   "source": [
    "voteBest3.fit(train_x_final, train_y_final)\n",
    "voteHard.fit(train_x_final, train_y_final)\n",
    "voteSoft.fit(train_x_final, train_y_final)\n",
    "\n",
    "Models[\"Soft Voting\"]= voteSoft\n",
    "Models[\"Hard Voting\"]= voteHard\n",
    "Models[\"voteBest3\"] = voteBest3"
   ]
  },
  {
   "cell_type": "code",
   "execution_count": 82,
   "metadata": {},
   "outputs": [
    {
     "data": {
      "text/plain": [
       "0.80599744857791955"
      ]
     },
     "execution_count": 82,
     "metadata": {},
     "output_type": "execute_result"
    }
   ],
   "source": [
    "boostBest = AdaBoostClassifier(voteBest3, algorithm=\"SAMME\")\n",
    "tuning(boostBest, train_x_final, train_y_final, scoring=\"accuracy\", cv=5).mean()"
   ]
  },
  {
   "cell_type": "code",
   "execution_count": 104,
   "metadata": {
    "collapsed": true
   },
   "outputs": [],
   "source": [
    "boostBest.fit(train_x_final, train_y_final)\n",
    "Models[\"AdaBoost\"] = boostBest"
   ]
  },
  {
   "cell_type": "code",
   "execution_count": 83,
   "metadata": {},
   "outputs": [
    {
     "data": {
      "text/plain": [
       "((585, 22), (147, 22))"
      ]
     },
     "execution_count": 83,
     "metadata": {},
     "output_type": "execute_result"
    }
   ],
   "source": [
    "from sklearn.model_selection import train_test_split\n",
    "\n",
    "allData = np.column_stack((train_x_final, train_y_final.T))\n",
    "train_stack, test_stack = train_test_split(allData, test_size = 0.2, random_state=0)\n",
    "train_stack.shape, test_stack.shape"
   ]
  },
  {
   "cell_type": "code",
   "execution_count": 84,
   "metadata": {
    "collapsed": true
   },
   "outputs": [],
   "source": [
    "\"\"\"\n",
    "Lets split the trainind set into training and validation sets.\n",
    "By the way, I will create a stacking model with Random Forests.\n",
    "\"\"\"\n",
    "train_stack_y = train_stack[:,21]\n",
    "train_stack_x = train_stack[:,:21]\n",
    "\n",
    "test_stack_y = test_stack[:,21]\n",
    "test_stack_x = test_stack[:,:21]"
   ]
  },
  {
   "cell_type": "code",
   "execution_count": 85,
   "metadata": {
    "collapsed": true
   },
   "outputs": [],
   "source": [
    "LRfine.best_estimator_.fit(train_stack_x[:450,:], train_stack_y[:450])\n",
    "LSVCfine.best_estimator_.fit(train_stack_x[:450,:], train_stack_y[:450])\n",
    "RCfine.best_estimator_.fit(train_stack_x[:450,:], train_stack_y[:450])\n",
    "\n",
    "stackLR = LRfine.best_estimator_.predict(train_stack_x[450:,:])\n",
    "stackLSVC = LSVCfine.best_estimator_.predict(train_stack_x[450:,:])\n",
    "stackRC = RCfine.best_estimator_.predict(train_stack_x[450:,:])"
   ]
  },
  {
   "cell_type": "code",
   "execution_count": 86,
   "metadata": {
    "collapsed": true
   },
   "outputs": [],
   "source": [
    "stack = np.column_stack((stackLR, stackLSVC, stackRC))"
   ]
  },
  {
   "cell_type": "code",
   "execution_count": 87,
   "metadata": {},
   "outputs": [
    {
     "data": {
      "text/plain": [
       "(135, 3)"
      ]
     },
     "execution_count": 87,
     "metadata": {},
     "output_type": "execute_result"
    }
   ],
   "source": [
    "stack.shape"
   ]
  },
  {
   "cell_type": "code",
   "execution_count": 88,
   "metadata": {},
   "outputs": [],
   "source": [
    "from sklearn.ensemble import RandomForestClassifier\n",
    "\n",
    "stackClf = RandomForestClassifier()\n",
    "stackClf.fit(stack, train_stack_y[450:])"
   ]
  },
  {
   "cell_type": "code",
   "execution_count": 89,
   "metadata": {},
   "outputs": [
    {
     "data": {
      "text/plain": [
       "0.8231292517006803"
      ]
     },
     "execution_count": 89,
     "metadata": {},
     "output_type": "execute_result"
    }
   ],
   "source": [
    "stackPredict = stackClf.predict(\n",
    "    np.column_stack(\n",
    "        (\n",
    "        LRfine.best_estimator_.predict(test_stack_x),\n",
    "        LSVCfine.best_estimator_.predict(test_stack_x),\n",
    "        RCfine.best_estimator_.predict(test_stack_x)\n",
    "        )\n",
    "    )\n",
    ")\n",
    "accuracy_score(test_stack_y, stackPredict)"
   ]
  },
  {
   "cell_type": "code",
   "execution_count": 91,
   "metadata": {},
   "outputs": [
    {
     "data": {
      "text/html": [
       "<div>\n",
       "<style>\n",
       "    .dataframe thead tr:only-child th {\n",
       "        text-align: right;\n",
       "    }\n",
       "\n",
       "    .dataframe thead th {\n",
       "        text-align: left;\n",
       "    }\n",
       "\n",
       "    .dataframe tbody tr th {\n",
       "        vertical-align: top;\n",
       "    }\n",
       "</style>\n",
       "<table border=\"1\" class=\"dataframe\">\n",
       "  <thead>\n",
       "    <tr style=\"text-align: right;\">\n",
       "      <th></th>\n",
       "      <th>Age</th>\n",
       "      <th>Sex</th>\n",
       "      <th>CP</th>\n",
       "      <th>Trestbps</th>\n",
       "      <th>Chol</th>\n",
       "      <th>Fbs</th>\n",
       "      <th>Restecg</th>\n",
       "      <th>Thalach</th>\n",
       "      <th>Exang</th>\n",
       "      <th>Oldpeak</th>\n",
       "      <th>Slope</th>\n",
       "      <th>CA</th>\n",
       "      <th>Thal</th>\n",
       "    </tr>\n",
       "  </thead>\n",
       "  <tbody>\n",
       "    <tr>\n",
       "      <th>78</th>\n",
       "      <td>60.0</td>\n",
       "      <td>1.0</td>\n",
       "      <td>4.0</td>\n",
       "      <td>130</td>\n",
       "      <td>0</td>\n",
       "      <td>NaN</td>\n",
       "      <td>1</td>\n",
       "      <td>130</td>\n",
       "      <td>1</td>\n",
       "      <td>1.1</td>\n",
       "      <td>3</td>\n",
       "      <td>1</td>\n",
       "      <td>NaN</td>\n",
       "    </tr>\n",
       "    <tr>\n",
       "      <th>162</th>\n",
       "      <td>69.0</td>\n",
       "      <td>1.0</td>\n",
       "      <td>4.0</td>\n",
       "      <td>NaN</td>\n",
       "      <td>289</td>\n",
       "      <td>1</td>\n",
       "      <td>1</td>\n",
       "      <td>NaN</td>\n",
       "      <td>NaN</td>\n",
       "      <td>NaN</td>\n",
       "      <td>NaN</td>\n",
       "      <td>NaN</td>\n",
       "      <td>NaN</td>\n",
       "    </tr>\n",
       "    <tr>\n",
       "      <th>53</th>\n",
       "      <td>55.0</td>\n",
       "      <td>1.0</td>\n",
       "      <td>4.0</td>\n",
       "      <td>140</td>\n",
       "      <td>0</td>\n",
       "      <td>0</td>\n",
       "      <td>0</td>\n",
       "      <td>83</td>\n",
       "      <td>0</td>\n",
       "      <td>0</td>\n",
       "      <td>2</td>\n",
       "      <td>NaN</td>\n",
       "      <td>7</td>\n",
       "    </tr>\n",
       "    <tr>\n",
       "      <th>55</th>\n",
       "      <td>56.0</td>\n",
       "      <td>1.0</td>\n",
       "      <td>3.0</td>\n",
       "      <td>125</td>\n",
       "      <td>0</td>\n",
       "      <td>NaN</td>\n",
       "      <td>0</td>\n",
       "      <td>98</td>\n",
       "      <td>0</td>\n",
       "      <td>-2</td>\n",
       "      <td>2</td>\n",
       "      <td>NaN</td>\n",
       "      <td>7</td>\n",
       "    </tr>\n",
       "    <tr>\n",
       "      <th>60</th>\n",
       "      <td>56.0</td>\n",
       "      <td>1.0</td>\n",
       "      <td>4.0</td>\n",
       "      <td>125</td>\n",
       "      <td>0</td>\n",
       "      <td>1</td>\n",
       "      <td>0</td>\n",
       "      <td>103</td>\n",
       "      <td>1</td>\n",
       "      <td>1</td>\n",
       "      <td>2</td>\n",
       "      <td>NaN</td>\n",
       "      <td>7</td>\n",
       "    </tr>\n",
       "  </tbody>\n",
       "</table>\n",
       "</div>"
      ],
      "text/plain": [
       "      Age  Sex   CP Trestbps Chol  Fbs Restecg Thalach Exang Oldpeak Slope  \\\n",
       "78   60.0  1.0  4.0      130    0  NaN       1     130     1     1.1     3   \n",
       "162  69.0  1.0  4.0      NaN  289    1       1     NaN   NaN     NaN   NaN   \n",
       "53   55.0  1.0  4.0      140    0    0       0      83     0       0     2   \n",
       "55   56.0  1.0  3.0      125    0  NaN       0      98     0      -2     2   \n",
       "60   56.0  1.0  4.0      125    0    1       0     103     1       1     2   \n",
       "\n",
       "      CA Thal  \n",
       "78     1  NaN  \n",
       "162  NaN  NaN  \n",
       "53   NaN    7  \n",
       "55   NaN    7  \n",
       "60   NaN    7  "
      ]
     },
     "execution_count": 91,
     "metadata": {},
     "output_type": "execute_result"
    }
   ],
   "source": [
    "test_x.head()"
   ]
  },
  {
   "cell_type": "code",
   "execution_count": 92,
   "metadata": {},
   "outputs": [
    {
     "data": {
      "text/plain": [
       "array([[-0.18359702, -0.51861886, -0.45883147, ..., -0.24497051,\n",
       "         1.40276225,  0.27564   ],\n",
       "       [-0.18359702, -0.51861886, -0.45883147, ...,  0.14664177,\n",
       "        -0.71287918, -0.36635696],\n",
       "       [-0.18359702, -0.51861886, -0.45883147, ..., -2.08554823,\n",
       "        -0.71287918, -0.73321237],\n",
       "       ..., \n",
       "       [-0.18359702, -0.51861886, -0.45883147, ..., -0.63658279,\n",
       "         1.40276225,  2.01820319],\n",
       "       [-0.18359702, -0.51861886, -0.45883147, ..., -0.44077665,\n",
       "         1.40276225,  1.55963393],\n",
       "       [-0.18359702, -0.51861886,  2.17944947, ...,  0.14664177,\n",
       "        -0.71287918, -0.36635696]])"
      ]
     },
     "execution_count": 92,
     "metadata": {},
     "output_type": "execute_result"
    }
   ],
   "source": [
    "test_x_fin = test_x.drop([\"CA\"], axis=1)\n",
    "test_x_fin = prepare_pipeline(test_x_fin, [\"CP\", \"Restecg\", \"Thal\", \"Slope\"]).transform(test_x_fin)\n",
    "test_x_fin"
   ]
  },
  {
   "cell_type": "code",
   "execution_count": 93,
   "metadata": {},
   "outputs": [
    {
     "data": {
      "text/plain": [
       "array([1, 1, 1, 1, 1, 0, 1, 0, 0, 1, 0, 0, 0, 1, 1, 1, 1, 1, 0, 1, 1, 0, 1,\n",
       "       1, 1, 1, 1, 1, 0, 0, 1, 1, 0, 0, 0, 0, 0, 0, 1, 1, 0, 1, 0, 0, 1, 0,\n",
       "       1, 0, 1, 1, 1, 0, 1, 0, 1, 1, 0, 1, 0, 0, 0, 0, 0, 1, 1, 1, 1, 0, 1,\n",
       "       0, 0, 1, 1, 0, 0, 1, 1, 1, 1, 1, 0, 0, 0, 1, 1, 0, 0, 1, 1, 1, 1, 1,\n",
       "       1, 1, 1, 1, 0, 1, 1, 0, 1, 0, 1, 0, 1, 0, 0, 1, 0, 0, 1, 1, 1, 1, 1,\n",
       "       1, 1, 1, 1, 0, 1, 1, 0, 1, 0, 1, 1, 0, 0, 1, 0, 1, 0, 0, 0, 0, 1, 1,\n",
       "       0, 0, 1, 1, 1, 1, 0, 0, 1, 0, 1, 1, 1, 1, 0, 0, 1, 1, 1, 0, 1, 1, 0,\n",
       "       0, 1, 1, 1, 1, 0, 1, 1, 1, 1, 1, 1, 1, 0, 1, 1, 0, 1, 1, 0, 1, 1, 1], dtype=int64)"
      ]
     },
     "execution_count": 93,
     "metadata": {},
     "output_type": "execute_result"
    }
   ],
   "source": [
    "test_y_fin = binary_label(test_y)\n",
    "test_y_fin"
   ]
  },
  {
   "cell_type": "code",
   "execution_count": 97,
   "metadata": {},
   "outputs": [],
   "source": [
    "from sklearn.metrics import accuracy_score\n",
    "def calculate_test_accuracy(models, X, y):\n",
    "    predictions = {}\n",
    "    scores = {}\n",
    "    \n",
    "    for model in models:\n",
    "        predictions[model] = models[model].predict(X)\n",
    "        \n",
    "    for model in predictions:\n",
    "        scores[model] = accuracy_score(predictions[model],y)\n",
    "    return scores"
   ]
  },
  {
   "cell_type": "code",
   "execution_count": 110,
   "metadata": {},
   "outputs": [
    {
     "data": {
      "text/plain": [
       "{'AdaBoost': 0.83152173913043481,\n",
       " 'Hard Voting': 0.83152173913043481,\n",
       " 'LinearSVCFined': 0.83695652173913049,\n",
       " 'LogRegFined': 0.84239130434782605,\n",
       " 'RanForestFined': 0.85869565217391308,\n",
       " 'RidgeFined': 0.79891304347826086,\n",
       " 'SVCFined': 0.85326086956521741,\n",
       " 'Soft Voting': 0.84782608695652173,\n",
       " 'voteBest3': 0.85326086956521741}"
      ]
     },
     "execution_count": 110,
     "metadata": {},
     "output_type": "execute_result"
    }
   ],
   "source": [
    "calculate_test_accuracy(Models, test_x_fin, test_y_fin)"
   ]
  },
  {
   "cell_type": "code",
   "execution_count": 111,
   "metadata": {},
   "outputs": [
    {
     "data": {
      "text/plain": [
       "'\\nThe final models are very good.\\nExcept the RidgeFined model, that model seems to be overfit.\\n\\nThat can be seen the ensemble methods perform well than individual models.\\n'"
      ]
     },
     "execution_count": 111,
     "metadata": {},
     "output_type": "execute_result"
    }
   ],
   "source": [
    "\"\"\"\n",
    "The final models are very good.\n",
    "Except the RidgeFined model, that model seems to overfit.\n",
    "\n",
    "That can be seen the ensemble methods perform well than individual models.\n",
    "\n",
    "In next chapter, I will try another approach, I will try to predict multiclass prediction, by stacking. \n",
    "First I will predict probas via first level Random Forest then I will use that probas as training set of second layer \n",
    "Random Forest.\n",
    "\"\"\""
   ]
  },
  {
   "cell_type": "code",
   "execution_count": 114,
   "metadata": {},
   "outputs": [],
   "source": [
    "from sklearn.ensemble import RandomForestClassifier\n",
    "probasModel = RandomForestClassifier(random_state=0)"
   ]
  },
  {
   "cell_type": "code",
   "execution_count": 155,
   "metadata": {},
   "outputs": [
    {
     "data": {
      "text/plain": [
       "((411, 22), (183, 22))"
      ]
     },
     "execution_count": 155,
     "metadata": {},
     "output_type": "execute_result"
    }
   ],
   "source": [
    "# create a new test, train, validation set.\n",
    "from sklearn.model_selection import train_test_split\n",
    "probaData = np.column_stack((train_x_final, train_y)) \n",
    "probaTrain, probaTest = train_test_split(probaData)\n",
    "\n",
    "probaTrain, probaValidation = train_test_split(probaTrain)\n",
    "probaTrain_y = probaTrain[:,21]\n",
    "probaTrain_X = probaTrain[:,:21]\n",
    "\n",
    "probaValidation_y = probaValidation[:,21]\n",
    "probaValidation_X = probaValidation[:,:21]\n",
    "\n",
    "probaTest_y = probaTest[:,21]\n",
    "probaTest_X = probaTest[:,:21]"
   ]
  },
  {
   "cell_type": "code",
   "execution_count": 156,
   "metadata": {},
   "outputs": [
    {
     "data": {
      "text/plain": [
       "RandomForestClassifier(bootstrap=True, class_weight=None, criterion='gini',\n",
       "            max_depth=None, max_features='auto', max_leaf_nodes=None,\n",
       "            min_impurity_decrease=0.0, min_impurity_split=None,\n",
       "            min_samples_leaf=1, min_samples_split=2,\n",
       "            min_weight_fraction_leaf=0.0, n_estimators=10, n_jobs=1,\n",
       "            oob_score=False, random_state=0, verbose=0, warm_start=False)"
      ]
     },
     "execution_count": 156,
     "metadata": {},
     "output_type": "execute_result"
    }
   ],
   "source": [
    "probasModel.fit(probaTrain_X, probaTrain_y)"
   ]
  },
  {
   "cell_type": "code",
   "execution_count": 159,
   "metadata": {
    "scrolled": true
   },
   "outputs": [
    {
     "data": {
      "text/plain": [
       "array([[ 0.3,  0.1,  0.4,  0.1,  0.1],\n",
       "       [ 0.8,  0.2,  0. ,  0. ,  0. ],\n",
       "       [ 0.4,  0.6,  0. ,  0. ,  0. ],\n",
       "       [ 0.2,  0.8,  0. ,  0. ,  0. ],\n",
       "       [ 0.2,  0.6,  0.1,  0.1,  0. ],\n",
       "       [ 0.1,  0.7,  0.2,  0. ,  0. ],\n",
       "       [ 1. ,  0. ,  0. ,  0. ,  0. ],\n",
       "       [ 0.7,  0.3,  0. ,  0. ,  0. ],\n",
       "       [ 0.6,  0.4,  0. ,  0. ,  0. ],\n",
       "       [ 0.2,  0.6,  0.2,  0. ,  0. ],\n",
       "       [ 0.8,  0.2,  0. ,  0. ,  0. ],\n",
       "       [ 1. ,  0. ,  0. ,  0. ,  0. ],\n",
       "       [ 1. ,  0. ,  0. ,  0. ,  0. ],\n",
       "       [ 0.5,  0.4,  0. ,  0.1,  0. ],\n",
       "       [ 0.1,  0.3,  0.4,  0.1,  0.1],\n",
       "       [ 1. ,  0. ,  0. ,  0. ,  0. ],\n",
       "       [ 0.9,  0.1,  0. ,  0. ,  0. ],\n",
       "       [ 0.7,  0.2,  0. ,  0.1,  0. ],\n",
       "       [ 0.1,  0.5,  0.4,  0. ,  0. ],\n",
       "       [ 0.3,  0.4,  0.1,  0.2,  0. ],\n",
       "       [ 0.2,  0.3,  0.1,  0.3,  0.1],\n",
       "       [ 1. ,  0. ,  0. ,  0. ,  0. ],\n",
       "       [ 0.9,  0.1,  0. ,  0. ,  0. ],\n",
       "       [ 0.8,  0.1,  0.1,  0. ,  0. ],\n",
       "       [ 0.1,  0.5,  0.1,  0.3,  0. ],\n",
       "       [ 0.7,  0.1,  0.2,  0. ,  0. ],\n",
       "       [ 0.2,  0.2,  0.1,  0.3,  0.2],\n",
       "       [ 0.6,  0.3,  0. ,  0.1,  0. ],\n",
       "       [ 0.4,  0.5,  0.1,  0. ,  0. ],\n",
       "       [ 0. ,  1. ,  0. ,  0. ,  0. ],\n",
       "       [ 0.6,  0.4,  0. ,  0. ,  0. ],\n",
       "       [ 0.1,  0.9,  0. ,  0. ,  0. ],\n",
       "       [ 0.2,  0.3,  0.5,  0. ,  0. ],\n",
       "       [ 1. ,  0. ,  0. ,  0. ,  0. ],\n",
       "       [ 0.9,  0.1,  0. ,  0. ,  0. ],\n",
       "       [ 0.8,  0.2,  0. ,  0. ,  0. ],\n",
       "       [ 0.7,  0.3,  0. ,  0. ,  0. ],\n",
       "       [ 0.4,  0.1,  0.4,  0.1,  0. ],\n",
       "       [ 0. ,  0.2,  0.6,  0.2,  0. ],\n",
       "       [ 0.9,  0.1,  0. ,  0. ,  0. ],\n",
       "       [ 0.7,  0.2,  0.1,  0. ,  0. ],\n",
       "       [ 0. ,  0.5,  0.2,  0.1,  0.2],\n",
       "       [ 0. ,  0.9,  0. ,  0.1,  0. ],\n",
       "       [ 0.1,  0.9,  0. ,  0. ,  0. ],\n",
       "       [ 0.1,  0.3,  0.1,  0.4,  0.1],\n",
       "       [ 0.1,  0.3,  0.2,  0.3,  0.1],\n",
       "       [ 1. ,  0. ,  0. ,  0. ,  0. ],\n",
       "       [ 0. ,  0.6,  0.3,  0. ,  0.1],\n",
       "       [ 0.4,  0.3,  0.1,  0.2,  0. ],\n",
       "       [ 0.1,  0.4,  0.4,  0.1,  0. ],\n",
       "       [ 0.2,  0. ,  0.1,  0.4,  0.3],\n",
       "       [ 0.5,  0.2,  0.2,  0. ,  0.1],\n",
       "       [ 0.7,  0.1,  0.2,  0. ,  0. ],\n",
       "       [ 0.9,  0.1,  0. ,  0. ,  0. ],\n",
       "       [ 0.2,  0.2,  0.1,  0.5,  0. ],\n",
       "       [ 1. ,  0. ,  0. ,  0. ,  0. ],\n",
       "       [ 0.3,  0.2,  0.1,  0.4,  0. ],\n",
       "       [ 1. ,  0. ,  0. ,  0. ,  0. ],\n",
       "       [ 0. ,  0.9,  0.1,  0. ,  0. ],\n",
       "       [ 0.4,  0. ,  0.2,  0.4,  0. ],\n",
       "       [ 0.9,  0.1,  0. ,  0. ,  0. ],\n",
       "       [ 0.7,  0.3,  0. ,  0. ,  0. ],\n",
       "       [ 0.2,  0.8,  0. ,  0. ,  0. ],\n",
       "       [ 0.1,  0.6,  0.3,  0. ,  0. ],\n",
       "       [ 0.4,  0.3,  0.1,  0.2,  0. ],\n",
       "       [ 0.9,  0.1,  0. ,  0. ,  0. ],\n",
       "       [ 0.2,  0.1,  0.1,  0.4,  0.2],\n",
       "       [ 1. ,  0. ,  0. ,  0. ,  0. ],\n",
       "       [ 0.5,  0. ,  0.2,  0.2,  0.1],\n",
       "       [ 0. ,  0.6,  0.1,  0.3,  0. ],\n",
       "       [ 0.6,  0.3,  0. ,  0.1,  0. ],\n",
       "       [ 0.3,  0.1,  0.4,  0.1,  0.1],\n",
       "       [ 0.5,  0.4,  0. ,  0. ,  0.1],\n",
       "       [ 0.2,  0.6,  0. ,  0.2,  0. ],\n",
       "       [ 0.6,  0.1,  0. ,  0.3,  0. ],\n",
       "       [ 0.6,  0.3,  0. ,  0.1,  0. ],\n",
       "       [ 0.5,  0.4,  0. ,  0.1,  0. ],\n",
       "       [ 0.7,  0.2,  0. ,  0.1,  0. ],\n",
       "       [ 0. ,  0.3,  0.4,  0.3,  0. ],\n",
       "       [ 0.3,  0.4,  0.2,  0.1,  0. ],\n",
       "       [ 1. ,  0. ,  0. ,  0. ,  0. ],\n",
       "       [ 1. ,  0. ,  0. ,  0. ,  0. ],\n",
       "       [ 0.9,  0. ,  0.1,  0. ,  0. ],\n",
       "       [ 0. ,  0. ,  0.5,  0.5,  0. ],\n",
       "       [ 0.5,  0.1,  0.3,  0. ,  0.1],\n",
       "       [ 0.2,  0.8,  0. ,  0. ,  0. ],\n",
       "       [ 0.7,  0.1,  0. ,  0.2,  0. ],\n",
       "       [ 0.5,  0.4,  0.1,  0. ,  0. ],\n",
       "       [ 0. ,  0.4,  0. ,  0.6,  0. ],\n",
       "       [ 1. ,  0. ,  0. ,  0. ,  0. ],\n",
       "       [ 0.1,  0.3,  0.1,  0.5,  0. ],\n",
       "       [ 0.5,  0.1,  0. ,  0.4,  0. ],\n",
       "       [ 0.1,  0.2,  0.1,  0.5,  0.1],\n",
       "       [ 0.5,  0.1,  0.2,  0.2,  0. ],\n",
       "       [ 0.1,  0.1,  0. ,  0.6,  0.2],\n",
       "       [ 1. ,  0. ,  0. ,  0. ,  0. ],\n",
       "       [ 0.8,  0.1,  0.1,  0. ,  0. ],\n",
       "       [ 0.7,  0.3,  0. ,  0. ,  0. ],\n",
       "       [ 0.9,  0. ,  0.1,  0. ,  0. ],\n",
       "       [ 0.9,  0.1,  0. ,  0. ,  0. ],\n",
       "       [ 0. ,  0.3,  0.3,  0.4,  0. ],\n",
       "       [ 0.8,  0.1,  0. ,  0.1,  0. ],\n",
       "       [ 0.6,  0.3,  0.1,  0. ,  0. ],\n",
       "       [ 0.5,  0.1,  0.4,  0. ,  0. ],\n",
       "       [ 0.1,  0.1,  0.2,  0.5,  0.1],\n",
       "       [ 0.3,  0.5,  0. ,  0.1,  0.1],\n",
       "       [ 0.6,  0.3,  0.1,  0. ,  0. ],\n",
       "       [ 0. ,  0.2,  0.5,  0.2,  0.1],\n",
       "       [ 0.4,  0.3,  0. ,  0.3,  0. ],\n",
       "       [ 0. ,  0.8,  0.1,  0. ,  0.1],\n",
       "       [ 0.2,  0.3,  0.2,  0.3,  0. ],\n",
       "       [ 0.4,  0.3,  0.1,  0.2,  0. ],\n",
       "       [ 1. ,  0. ,  0. ,  0. ,  0. ],\n",
       "       [ 0.7,  0.1,  0.2,  0. ,  0. ],\n",
       "       [ 0.1,  0.4,  0.3,  0.2,  0. ],\n",
       "       [ 0.8,  0.2,  0. ,  0. ,  0. ],\n",
       "       [ 0.2,  0.2,  0.2,  0.4,  0. ],\n",
       "       [ 0.1,  0.5,  0. ,  0.4,  0. ],\n",
       "       [ 0.1,  0.6,  0. ,  0.3,  0. ],\n",
       "       [ 0.7,  0.2,  0. ,  0.1,  0. ],\n",
       "       [ 0.7,  0.2,  0.1,  0. ,  0. ],\n",
       "       [ 0.9,  0.1,  0. ,  0. ,  0. ],\n",
       "       [ 0.5,  0.3,  0. ,  0.2,  0. ],\n",
       "       [ 0.6,  0.2,  0. ,  0.2,  0. ],\n",
       "       [ 0.7,  0.2,  0. ,  0.1,  0. ],\n",
       "       [ 0.3,  0.4,  0.2,  0. ,  0.1],\n",
       "       [ 0.2,  0.8,  0. ,  0. ,  0. ],\n",
       "       [ 0.6,  0.1,  0.2,  0.1,  0. ],\n",
       "       [ 0. ,  0.3,  0.2,  0.5,  0. ],\n",
       "       [ 0.8,  0.2,  0. ,  0. ,  0. ],\n",
       "       [ 0.2,  0.2,  0.4,  0.2,  0. ],\n",
       "       [ 0.8,  0.2,  0. ,  0. ,  0. ],\n",
       "       [ 0.2,  0.4,  0. ,  0.4,  0. ],\n",
       "       [ 0.7,  0.2,  0. ,  0.1,  0. ],\n",
       "       [ 1. ,  0. ,  0. ,  0. ,  0. ],\n",
       "       [ 1. ,  0. ,  0. ,  0. ,  0. ],\n",
       "       [ 0.7,  0. ,  0.2,  0.1,  0. ],\n",
       "       [ 0.1,  0.2,  0.2,  0.3,  0.2]])"
      ]
     },
     "execution_count": 159,
     "metadata": {},
     "output_type": "execute_result"
    }
   ],
   "source": [
    "probas = probasModel.predict_proba(probaValidation_X)\n",
    "probas"
   ]
  },
  {
   "cell_type": "code",
   "execution_count": 160,
   "metadata": {},
   "outputs": [
    {
     "data": {
      "text/plain": [
       "(138, 5)"
      ]
     },
     "execution_count": 160,
     "metadata": {},
     "output_type": "execute_result"
    }
   ],
   "source": [
    "probas.shape"
   ]
  },
  {
   "cell_type": "code",
   "execution_count": 161,
   "metadata": {},
   "outputs": [
    {
     "data": {
      "text/plain": [
       "RandomForestClassifier(bootstrap=True, class_weight=None, criterion='gini',\n",
       "            max_depth=None, max_features='auto', max_leaf_nodes=None,\n",
       "            min_impurity_decrease=0.0, min_impurity_split=None,\n",
       "            min_samples_leaf=1, min_samples_split=2,\n",
       "            min_weight_fraction_leaf=0.0, n_estimators=10, n_jobs=1,\n",
       "            oob_score=False, random_state=0, verbose=0, warm_start=False)"
      ]
     },
     "execution_count": 161,
     "metadata": {},
     "output_type": "execute_result"
    }
   ],
   "source": [
    "from sklearn.ensemble import RandomForestClassifier\n",
    "probaStack = RandomForestClassifier(random_state = 0)\n",
    "probaStack.fit(probas, probaValidation_y)"
   ]
  },
  {
   "cell_type": "code",
   "execution_count": 163,
   "metadata": {},
   "outputs": [
    {
     "data": {
      "text/plain": [
       "0.46448087431693991"
      ]
     },
     "execution_count": 163,
     "metadata": {},
     "output_type": "execute_result"
    }
   ],
   "source": [
    "from sklearn.metrics import accuracy_score\n",
    "\n",
    "probaPredictedClass = probaStack.predict(probasModel.predict_proba(probaTest_X))\n",
    "accuracy_score(probaPredictedClass, probaTest_y)"
   ]
  },
  {
   "cell_type": "code",
   "execution_count": null,
   "metadata": {
    "collapsed": true
   },
   "outputs": [],
   "source": [
    "\"\"\"\n",
    "The accuracy is very low, especially in comparison of one-layered algorithms that I tried.\n",
    "The main reason is my data set has very few instances, If I use them by dividing into stacks, \n",
    "That few dataset becomes fewer, that lowers the accuracy.\n",
    "So, binary classification is much more appropriate in this data and I reached %85 accuracy with some algorithms.\n",
    "\"\"\""
   ]
  }
 ],
 "metadata": {
  "kernelspec": {
   "display_name": "Python 3",
   "language": "python",
   "name": "python3"
  },
  "language_info": {
   "codemirror_mode": {
    "name": "ipython",
    "version": 3
   },
   "file_extension": ".py",
   "mimetype": "text/x-python",
   "name": "python",
   "nbconvert_exporter": "python",
   "pygments_lexer": "ipython3",
   "version": "3.6.3"
  }
 },
 "nbformat": 4,
 "nbformat_minor": 2
}
